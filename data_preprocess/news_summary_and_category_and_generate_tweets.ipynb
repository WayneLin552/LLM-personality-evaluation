{
 "cells": [
  {
   "cell_type": "code",
   "execution_count": 12,
   "id": "e7fcdb15",
   "metadata": {},
   "outputs": [],
   "source": [
    "import pandas as pd\n",
    "import numpy as np\n",
    "import requests\n",
    "import time\n",
    "import pickle\n",
    "from tqdm.notebook import tqdm\n",
    "news = pd.read_excel(r'D:\\Googledownload\\news.xlsx',index_col=0)\n",
    "with open(r'D:\\Googledownload\\summary.pkl', 'rb') as handle:\n",
    "    summary = pickle.load(handle)\n"
   ]
  },
  {
   "cell_type": "markdown",
   "id": "82acf018",
   "metadata": {},
   "source": [
    "# Summary"
   ]
  },
  {
   "cell_type": "code",
   "execution_count": 1,
   "id": "e467569b",
   "metadata": {},
   "outputs": [],
   "source": [
    "template = \"\"\"\n",
    "              Write a 50-100 words summary of the following text delimited by triple backquotes.\n",
    "              ```{text}```\n",
    "              Your SUMMARY:\n",
    "           \"\"\"\n",
    "s = time.time()\n",
    "count=179\n",
    "for title, text in tqdm(news.values[179:]):\n",
    "    data = {\n",
    "    'system_prompt': template,\n",
    "    'user_prompt': text,\n",
    "    'temperature': 0.2,\n",
    "    'top_p': 0.95,\n",
    "    'max_tokens': 200\n",
    "  }\n",
    "    try:\n",
    "        response = requests.post('http://lexi.eecs.berkeley.edu:8001/query_model', json=data)\n",
    "        summary[title]=response.json()['response']\n",
    "        count+=1\n",
    "        if count % 500 ==0:\n",
    "            count = 0\n",
    "            with open('D:/Googledownload/summary.pkl','wb') as f:\n",
    "                pickle.dump(summary, f, protocol=pickle.HIGHEST_PROTOCOL)\n",
    "    except Exception as exc:\n",
    "        print('%r generated an exception: %s' % (title, exc))\n",
    "print(time.time()-s)"
   ]
  },
  {
   "cell_type": "markdown",
   "id": "535da14c",
   "metadata": {},
   "source": [
    "# Generate Tweets and Categorized "
   ]
  },
  {
   "cell_type": "code",
   "execution_count": 28,
   "id": "ce547f2d",
   "metadata": {},
   "outputs": [],
   "source": [
    "import openai\n",
    "#import newspaper\n",
    "import json\n",
    "#from newscatcher import Newscatcher, describe_url,urls\n",
    "import time\n",
    "from collections import defaultdict\n",
    "from tqdm.notebook import tqdm\n",
    "from concurrent.futures import ThreadPoolExecutor\n",
    "import concurrent\n",
    "import pickle\n",
    "import time\n",
    "#open file manually and change base64.decodestring() into base64.decodebytes(), bugs will be fixed"
   ]
  },
  {
   "cell_type": "code",
   "execution_count": 29,
   "id": "3cae58ec",
   "metadata": {},
   "outputs": [],
   "source": [
    "openai.api_key = \"######\""
   ]
  },
  {
   "cell_type": "code",
   "execution_count": 30,
   "id": "c8e7c7b3",
   "metadata": {},
   "outputs": [],
   "source": [
    "#define get response\n",
    "# prompt = f\"\"\"\n",
    "#               Write a 50-100 words tweet of the following text you read.\n",
    "#               Title: {title}\n",
    "#               Content: {text}\n",
    "#               Your tweet:\n",
    "#            \"\"\"\n",
    "def get_response(prompt):\n",
    "    chat_completion = openai.ChatCompletion.create(\n",
    "    messages=[\n",
    "        {\n",
    "            \"role\": \"user\",\n",
    "            \"content\": prompt,\n",
    "        }\n",
    "    ],\n",
    "    model=\"gpt-3.5-turbo\",\n",
    "    temperature=0.3, # set 0.8 to let the response be more random to some extent\n",
    "    max_tokens=200,\n",
    "    )\n",
    "    time.sleep(2)\n",
    "    return chat_completion.choices[0].message.content"
   ]
  },
  {
   "cell_type": "code",
   "execution_count": 32,
   "id": "6ad8b9bd",
   "metadata": {},
   "outputs": [
    {
     "data": {
      "application/vnd.jupyter.widget-view+json": {
       "model_id": "1a930c3e4cc446cfae424bec4a303d08",
       "version_major": 2,
       "version_minor": 0
      },
      "text/plain": [
       "0it [00:00, ?it/s]"
      ]
     },
     "metadata": {},
     "output_type": "display_data"
    },
    {
     "name": "stdout",
     "output_type": "stream",
     "text": [
      "'Dimensional International Core Equity 2 ETF (BATS:DFIC) Shares Purchased by Vestmark Advisory Solutions Inc.' generated an exception: The server is overloaded or not ready yet.\n",
      "'Vestmark Advisory Solutions Inc. Increases Holdings in Vanguard FTSE All-World ex-US ETF (NYSEARCA:VEU)' generated an exception: The server is overloaded or not ready yet.\n",
      "'HBK Sorce Advisory LLC Has $831,000 Holdings in iShares Russell 2000 Growth ETF (NYSEARCA:IWO)' generated an exception: The server is overloaded or not ready yet.\n",
      "'Tortoise Investment Management LLC Cuts Position in Vanguard Small-Cap ETF (NYSEARCA:VB)' generated an exception: The server is overloaded or not ready yet.\n",
      "'Versor Investments LP Sells 893,420 Shares of Lakeland Bancorp, Inc. (NASDAQ:LBAI)' generated an exception: The server is overloaded or not ready yet.\n",
      "'Vestmark Advisory Solutions Inc. Acquires 4,772 Shares of Bentley Systems, Incorporated (NASDAQ:BSY)' generated an exception: Request timed out: HTTPSConnectionPool(host='api.openai.com', port=443): Read timed out. (read timeout=600)\n",
      "'Qantas shares rise on AGM update: What happened at the meeting?' generated an exception: The server is overloaded or not ready yet.\n",
      "'Vestmark Advisory Solutions Inc. Boosts Stake in The Procter & Gamble Company (NYSE:PG)' generated an exception: Request timed out: HTTPSConnectionPool(host='api.openai.com', port=443): Read timed out. (read timeout=600)\n",
      "'Vestmark Advisory Solutions Inc. Has $21.97 Million Stake in JPMorgan BetaBuilders International Equity ETF (BATS:BBIN)' generated an exception: Request timed out: HTTPSConnectionPool(host='api.openai.com', port=443): Read timed out. (read timeout=600)\n",
      "'Crown Castle Inc. (NYSE:CCI) Shares Purchased by Envestnet Asset Management Inc.' generated an exception: Request timed out: HTTPSConnectionPool(host='api.openai.com', port=443): Read timed out. (read timeout=600)\n",
      "'13 changes to the candidate list.' generated an exception: The server is overloaded or not ready yet.\n",
      "'Archer-Daniels-Midland Company (NYSE:ADM) Position Cut by Versor Investments LP' generated an exception: Request timed out: HTTPSConnectionPool(host='api.openai.com', port=443): Read timed out. (read timeout=600)\n",
      "'Tortoise Investment Management LLC Grows Stock Holdings in iShares MSCI USA Quality Factor ETF (BATS:QUAL)' generated an exception: Request timed out: HTTPSConnectionPool(host='api.openai.com', port=443): Read timed out. (read timeout=600)\n",
      "'Tortoise Investment Management LLC Sells 315 Shares of iShares S&P 100 ETF (NYSEARCA:OEF)' generated an exception: Request timed out: HTTPSConnectionPool(host='api.openai.com', port=443): Read timed out. (read timeout=600)\n",
      "'Gold Coast Has The End of Year Best Night Ever' generated an exception: The server is overloaded or not ready yet.\n",
      "'How to avoid MASSIVE losing stocks' generated an exception: Request timed out: HTTPSConnectionPool(host='api.openai.com', port=443): Read timed out. (read timeout=600)\n",
      "'The Revolution Occurring in Japan’s Defense Posture' generated an exception: The server is overloaded or not ready yet.\n",
      "'22 changes to the candidate list. National Convention Delegate Selection Update. 7 changes to the Presidential Primary, Caucus, and Convention candidate list. Filing has closed for the New Hampshire Presidential Primaries.' generated an exception: Request timed out: HTTPSConnectionPool(host='api.openai.com', port=443): Read timed out. (read timeout=600)\n",
      "'Santana: Watering Orange County’s Local News Desert' generated an exception: Request timed out: HTTPSConnectionPool(host='api.openai.com', port=443): Read timed out. (read timeout=600)\n",
      "'Fountain Valley Looks to Regulate Sober Living Homes' generated an exception: Request timed out: HTTPSConnectionPool(host='api.openai.com', port=443): Read timed out. (read timeout=600)\n",
      "'No. 20 Colorado Set for Season Opener' generated an exception: Request timed out: HTTPSConnectionPool(host='api.openai.com', port=443): Read timed out. (read timeout=600)\n",
      "'There’s A Huey Lewis Musical About To Start In America' generated an exception: Request timed out: HTTPSConnectionPool(host='api.openai.com', port=443): Read timed out. (read timeout=600)\n",
      "'Kylie Minogue Is Loving Her Vegas Residency' generated an exception: The server is overloaded or not ready yet.\n",
      "'Guy Pearce Stars In Scott Matthews Stunning Damien Hyde Directed ‘Wait In The Car’' generated an exception: Request timed out: HTTPSConnectionPool(host='api.openai.com', port=443): Read timed out. (read timeout=600)\n",
      "'Sama’ Abdulhadi is next up for the fabric presents mix series' generated an exception: The server is overloaded or not ready yet.\n",
      "'Oneohtrix Point Never calls Yung Lean “one of the finest poets in music rn” during Reddit AMA' generated an exception: Request timed out: HTTPSConnectionPool(host='api.openai.com', port=443): Read timed out. (read timeout=600)\n",
      "'Mucho Flow completes line-up for 2023' generated an exception: Request timed out: HTTPSConnectionPool(host='api.openai.com', port=443): Read timed out. (read timeout=600)\n",
      "'Opus, a film capturing Ryuichi Sakamoto’s final performances, to premiere at Venice Film Festival' generated an exception: Request timed out: HTTPSConnectionPool(host='api.openai.com', port=443): Read timed out. (read timeout=600)\n",
      "'EFG London Jazz Festival expands programme for 2023' generated an exception: Request timed out: HTTPSConnectionPool(host='api.openai.com', port=443): Read timed out. (read timeout=600)\n",
      "'Efficiently Packing Neural Network AI Model for the Edge (CEVA&#039;s Experts blog - Rami Drucker, Ceva)' generated an exception: The server is overloaded or not ready yet.\n",
      "'Sam Bankman-Fried Convicted on All Charges' generated an exception: Request timed out: HTTPSConnectionPool(host='api.openai.com', port=443): Read timed out. (read timeout=600)\n",
      "'Sending Endless Cash & Weapons to Ukraine Is Becoming Unattractive' generated an exception: Request timed out: HTTPSConnectionPool(host='api.openai.com', port=443): Read timed out. (read timeout=600)\n",
      "\"Kid Kapichi Announce New Album 'There Goes The Neighbourhood', Plot Spring UK And European Tour\" generated an exception: Request timed out: HTTPSConnectionPool(host='api.openai.com', port=443): Read timed out. (read timeout=600)\n",
      "\"Taylor Swift - 1989 (Taylor's Version) (Album Review)\" generated an exception: Request timed out: HTTPSConnectionPool(host='api.openai.com', port=443): Read timed out. (read timeout=600)\n",
      "'Arm Collaborates with Industry Leaders to Build AI Foundations of the Future' generated an exception: The server is overloaded or not ready yet.\n",
      "'Sophgo Licenses SiFive RISC-V Processor Cores to Drive High-Performance AI Computing Innovation' generated an exception: Request timed out: HTTPSConnectionPool(host='api.openai.com', port=443): Read timed out. (read timeout=600)\n",
      "'Raspberry Pi Receives Strategic Investment from Arm, Further Extending Long-Term Partnership' generated an exception: Request timed out: HTTPSConnectionPool(host='api.openai.com', port=443): Read timed out. (read timeout=600)\n",
      "'eUSB2 PHY' generated an exception: Request timed out: HTTPSConnectionPool(host='api.openai.com', port=443): Read timed out. (read timeout=600)\n",
      "'Everything You Need to Know About RISC-V  (Synopsys Blog - Kiran Vittal, Synopsys)' generated an exception: Request timed out: HTTPSConnectionPool(host='api.openai.com', port=443): Read timed out. (read timeout=600)\n",
      "'Will the Matildas play at the 100,000 capacity MCG? Well, it depends on Taylor Swift' generated an exception: The server is overloaded or not ready yet.\n",
      "'Senator Larissa Waters to motion inquiry into the impact of menopause and perimenopause on women' generated an exception: The server is overloaded or not ready yet.\n",
      "'How Will EDA Benefit from the AI Revolution? (Cadence Blog - Vinod Khera, Cadence)' generated an exception: Request timed out: HTTPSConnectionPool(host='api.openai.com', port=443): Read timed out. (read timeout=600)\n",
      "'Blue Angels Homecoming Air Show Is This Weekend' generated an exception: Request timed out: HTTPSConnectionPool(host='api.openai.com', port=443): Read timed out. (read timeout=600)\n",
      "'Circuit Court Releases More Info On Computer Hack' generated an exception: Request timed out: HTTPSConnectionPool(host='api.openai.com', port=443): Read timed out. (read timeout=600)\n"
     ]
    },
    {
     "name": "stdout",
     "output_type": "stream",
     "text": [
      "'Two Crashes Kill Three People In Deadliest Day This Year on Flagler Roads' generated an exception: The server is overloaded or not ready yet.\n",
      "'How to Watch The Young and the Restless Season 51 Online from Anywhere' generated an exception: Request timed out: HTTPSConnectionPool(host='api.openai.com', port=443): Read timed out. (read timeout=600)\n",
      "'Fireproof Your Job - When Having Workable Big Ideas Gets You Fired' generated an exception: Request timed out: HTTPSConnectionPool(host='api.openai.com', port=443): Read timed out. (read timeout=600)\n",
      "'Lawmakers’ Special Session Seeks to Expand Public Funding for Private Schools’ Special Education Students' generated an exception: The server is overloaded or not ready yet.\n",
      "'Despite Eskom’s Financial Woes, Andre De Ruyter Still Took Home A Lekker 2023 Paycheck' generated an exception: The server is overloaded or not ready yet.\n",
      "'Ma’alot (Ascent): The IDF Will Need to Drastically Update Its Multi-Year Program' generated an exception: Request timed out: HTTPSConnectionPool(host='api.openai.com', port=443): Read timed out. (read timeout=600)\n",
      "'Don’t say you’re ‘lucky’ to have a man who treats you like a human : Clementine Ford' generated an exception: Request timed out: HTTPSConnectionPool(host='api.openai.com', port=443): Read timed out. (read timeout=600)\n",
      "'Habitat for Humanity Red Deer holds two Women Build days in October' generated an exception: Request timed out: HTTPSConnectionPool(host='api.openai.com', port=443): Read timed out. (read timeout=600)\n",
      "'The Mother City Is Hosting Fan Parks To Watch The Epic RWC Final Match Together' generated an exception: The server is overloaded or not ready yet.\n",
      "'Maestros, cowboys and musical improvs are rolled into Bull Skit Comedy’s new season in Red Deer' generated an exception: Request timed out: HTTPSConnectionPool(host='api.openai.com', port=443): Read timed out. (read timeout=600)\n",
      "'Huge Chapel With Spooky Neighbours Is The Perfect Halloween Bargain At R1.6 Million' generated an exception: The server is overloaded or not ready yet.\n",
      "'Viral Video Of South African ‘Parrot Dad’ Tucking His Birds In Is What The World Needs Right Now' generated an exception: The server is overloaded or not ready yet.\n",
      "'9 more Central Albertans have died from COVID-19' generated an exception: Request timed out: HTTPSConnectionPool(host='api.openai.com', port=443): Read timed out. (read timeout=600)\n",
      "'The Fascist Tradition Behind Trump’s Increasingly Violent Rhetoric' generated an exception: Request timed out: HTTPSConnectionPool(host='api.openai.com', port=443): Read timed out. (read timeout=600)\n",
      "'Why Some People Equate Criticism of Israel with Anti-Semitism' generated an exception: Request timed out: HTTPSConnectionPool(host='api.openai.com', port=443): Read timed out. (read timeout=600)\n",
      "'Two Executive Appointments at Cathay' generated an exception: The server is overloaded or not ready yet.\n",
      "'Alex De Bruin Believes Siya And The Springboks Are Our National Solution' generated an exception: Request timed out: HTTPSConnectionPool(host='api.openai.com', port=443): Read timed out. (read timeout=600)\n",
      "'Asia Pacific Advances Two New Air Traffic Management Concepts' generated an exception: The server is overloaded or not ready yet.\n",
      "'Talking Books: A Whole New Era' generated an exception: The server is overloaded or not ready yet.\n",
      "'A Cape Town Atlantic Seaboard Gem Makes It On To TimeOut’s ‘World’s Coolest Hoods’ List' generated an exception: Request timed out: HTTPSConnectionPool(host='api.openai.com', port=443): Read timed out. (read timeout=600)\n",
      "'There’s Finally A Trailer For Netflix’s New Reality Series ‘Squid Game: The Challenge’ [Video]' generated an exception: Request timed out: HTTPSConnectionPool(host='api.openai.com', port=443): Read timed out. (read timeout=600)\n",
      "'Sheriff’s Office Investigating Early Morning Armed Robbery of Hillsborough Resident' generated an exception: The server is overloaded or not ready yet.\n",
      "'Live updates as New College evacuated and police called' generated an exception: Request timed out: HTTPSConnectionPool(host='api.openai.com', port=443): Read timed out. (read timeout=600)\n",
      "'Republicans Still Lukewarm To Mail Ballots' generated an exception: Request timed out: HTTPSConnectionPool(host='api.openai.com', port=443): Read timed out. (read timeout=600)\n",
      "'Bitcoin Boom: 70% Upswing Awaits This Trigger' generated an exception: The server is overloaded or not ready yet.\n",
      "'Patrik Ilstam Appointed GM of Anantara Koh Yao Yai Resort and Villas in Thailand' generated an exception: Request timed out: HTTPSConnectionPool(host='api.openai.com', port=443): Read timed out. (read timeout=600)\n",
      "'Thai Vietjet to Enhance Airport Operations with iPort DCS from Res2 and Travelport' generated an exception: Request timed out: HTTPSConnectionPool(host='api.openai.com', port=443): Read timed out. (read timeout=600)\n",
      "'‘Inflamed’ highlights some of the heroes of the Tubbs Fire' generated an exception: The server is overloaded or not ready yet.\n",
      "'Holding Court: 1-On-1 With Hubert Davis' generated an exception: Request timed out: HTTPSConnectionPool(host='api.openai.com', port=443): Read timed out. (read timeout=600)\n",
      "'Ethereum Could Soar by 50% According to This Data' generated an exception: The server is overloaded or not ready yet.\n",
      "'Why Are Global Markets Freaking Out Over US Bonds' generated an exception: The server is overloaded or not ready yet.\n",
      "\"Seeking advice on reapplying for my parents' UK visit visas\" generated an exception: The server is overloaded or not ready yet.\n",
      "'XRP’s Legal Woes Over? SEC Emails Suggest Non-Security Classification' generated an exception: Request timed out: HTTPSConnectionPool(host='api.openai.com', port=443): Read timed out. (read timeout=600)\n",
      "'Elon Musk : Twitter’s Acquisition an Accelerant to Creating a Mini-Internet Within a Single App' generated an exception: Request timed out: HTTPSConnectionPool(host='api.openai.com', port=443): Read timed out. (read timeout=600)\n",
      "'Country Lights Festival Looking for Volunteers After Vandalism' generated an exception: Request timed out: HTTPSConnectionPool(host='api.openai.com', port=443): Read timed out. (read timeout=600)\n",
      "'McMorrow admits EV transition is government-driven' generated an exception: The server is overloaded or not ready yet.\n",
      "'Ancient Sounds: Will Marsh, sitar for life' generated an exception: Request timed out: HTTPSConnectionPool(host='api.openai.com', port=443): Read timed out. (read timeout=600)\n",
      "'Settlement clears way for Dunkin’ Park development' generated an exception: The server is overloaded or not ready yet.\n",
      "'The Israel-Hamas War in perspective' generated an exception: The server is overloaded or not ready yet.\n",
      "'Abu Dhabi bank selection' generated an exception: Request timed out: HTTPSConnectionPool(host='api.openai.com', port=443): Read timed out. (read timeout=600)\n",
      "'EOI 189 Application Query' generated an exception: Request timed out: HTTPSConnectionPool(host='api.openai.com', port=443): Read timed out. (read timeout=600)\n",
      "'Designating a Medicin Traitant - Pros and Cons' generated an exception: Request timed out: HTTPSConnectionPool(host='api.openai.com', port=443): Read timed out. (read timeout=600)\n",
      "'Australia Citizenship Application' generated an exception: Request timed out: HTTPSConnectionPool(host='api.openai.com', port=443): Read timed out. (read timeout=600)\n",
      "'Checklist: 10 reasons you need BlackBerry UEM to secure your digital workplace' generated an exception: Request timed out: HTTPSConnectionPool(host='api.openai.com', port=443): Read timed out. (read timeout=600)\n",
      "\"Teenagers' suspicious behaviour in early hours in Taunton\" generated an exception: Request timed out: HTTPSConnectionPool(host='api.openai.com', port=443): Read timed out. (read timeout=600)\n",
      "'Michigan House Ethics Committee has not met since June' generated an exception: Request timed out: HTTPSConnectionPool(host='api.openai.com', port=443): Read timed out. (read timeout=600)\n",
      "'The EU’s AI Act Shows How To Regulate AI. It Could Be Improved' generated an exception: The server is overloaded or not ready yet.\n",
      "'Apollo Infrastructure Funds Take Modern Aviation for a Flight' generated an exception: Request timed out: HTTPSConnectionPool(host='api.openai.com', port=443): Read timed out. (read timeout=600)\n"
     ]
    },
    {
     "name": "stdout",
     "output_type": "stream",
     "text": [
      "'Four Misconceptions About the Consumer Welfare Standard' generated an exception: The server is overloaded or not ready yet.\n",
      "'AI Electric Motors Coming to a Store Near You?' generated an exception: Request timed out: HTTPSConnectionPool(host='api.openai.com', port=443): Read timed out. (read timeout=600)\n",
      "'Tech spend, AI fuel JP Morgan’s fight against Big Tech giants' generated an exception: The server is overloaded or not ready yet.\n",
      "'BST Awards 2023: Best buy-side client reporting platform—FactSet' generated an exception: Request timed out: HTTPSConnectionPool(host='api.openai.com', port=443): Read timed out. (read timeout=600)\n",
      "'People Moves: ICE, Qomply, Genesis, Symphony, Trumid, and more' generated an exception: Request timed out: HTTPSConnectionPool(host='api.openai.com', port=443): Read timed out. (read timeout=600)\n",
      "'BNY Mellon streamlines the hunt for liquidity with LiquidityDirect updates' generated an exception: Request timed out: HTTPSConnectionPool(host='api.openai.com', port=443): Read timed out. (read timeout=600)\n",
      "'In ‘unusual’ move, Virtu fights $25m SEC fine for data safeguarding breach' generated an exception: Request timed out: HTTPSConnectionPool(host='api.openai.com', port=443): Read timed out. (read timeout=600)\n",
      "'The causal AI wave could be the next to hit' generated an exception: Request timed out: HTTPSConnectionPool(host='api.openai.com', port=443): Read timed out. (read timeout=600)\n",
      "'Andhra Pradesh cabinet approves caste census' generated an exception: Request timed out: HTTPSConnectionPool(host='api.openai.com', port=443): Read timed out. (read timeout=600)\n",
      "\"I saved $240 on my cruise by letting Royal Caribbean choose my room, and I'd totally do it again\" generated an exception: The server is overloaded or not ready yet.\n",
      "'Swiggy Instamart creator Karthik Gurumurthy to quit, start own venture' generated an exception: Request timed out: HTTPSConnectionPool(host='api.openai.com', port=443): Read timed out. (read timeout=600)\n",
      "'Age-o-types: How your biological age differs from your chronological age' generated an exception: Request timed out: HTTPSConnectionPool(host='api.openai.com', port=443): Read timed out. (read timeout=600)\n",
      "'First Cambridge Film People success at Novi Cambridge' generated an exception: The server is overloaded or not ready yet.\n",
      "'Video | Biden claims he is being forced to build the border wall' generated an exception: The server is overloaded or not ready yet.\n",
      "'Italy & EU’s ‘greater interest’ in Indo-Pacific is ‘stabilising factor’, says EAM S Jaishankar' generated an exception: Request timed out: HTTPSConnectionPool(host='api.openai.com', port=443): Read timed out. (read timeout=600)\n",
      "'Barclays: Limited Impact Expected for Asia Jobs' generated an exception: The server is overloaded or not ready yet.\n",
      "'AAP minister Anand made hawala payments to China: Enforcement Directorate' generated an exception: Request timed out: HTTPSConnectionPool(host='api.openai.com', port=443): Read timed out. (read timeout=600)\n",
      "'DWS Names President for Japan Unit' generated an exception: The server is overloaded or not ready yet.\n",
      "'Citi Relocates EM Research Role to Hong Kong' generated an exception: The server is overloaded or not ready yet.\n",
      "'Dawn of a new era as AI supercomputer operational at Cambridge Open Zettascale Lab' generated an exception: Request timed out: HTTPSConnectionPool(host='api.openai.com', port=443): Read timed out. (read timeout=600)\n",
      "'Wine Gums Comedy’s second Footlight Cellars comedy night returns to the Cambridge Union' generated an exception: Request timed out: HTTPSConnectionPool(host='api.openai.com', port=443): Read timed out. (read timeout=600)\n",
      "'In pictures:\\xa0Let’s Go Circular at Grand Arcade' generated an exception: Request timed out: HTTPSConnectionPool(host='api.openai.com', port=443): Read timed out. (read timeout=600)\n",
      "'Tipperary decide on Paul Kelly as new senior football manager' generated an exception: Request timed out: HTTPSConnectionPool(host='api.openai.com', port=443): Read timed out. (read timeout=600)\n",
      "'Where is it going so wrong for Ten Hag and Manchester United?' generated an exception: Request timed out: HTTPSConnectionPool(host='api.openai.com', port=443): Read timed out. (read timeout=600)\n",
      "'Biden cancels more student debt' generated an exception: Request timed out: HTTPSConnectionPool(host='api.openai.com', port=443): Read timed out. (read timeout=600)\n",
      "'Surendra Rosha: «Some Financial Institutions Still Use Fax»' generated an exception: Request timed out: HTTPSConnectionPool(host='api.openai.com', port=443): Read timed out. (read timeout=600)\n",
      "'MAS: Singapore AUM Dips in 2022' generated an exception: Request timed out: HTTPSConnectionPool(host='api.openai.com', port=443): Read timed out. (read timeout=600)\n",
      "'All eyes are on world leaders to do better at the Climate Ambition Summit' generated an exception: The server is overloaded or not ready yet.\n",
      "'Alta Announces Tie-Ups with Bank, MFOs' generated an exception: Request timed out: HTTPSConnectionPool(host='api.openai.com', port=443): Read timed out. (read timeout=600)\n",
      "'The Oddly Complex Legacy of the Who’s ‘Quadrophenia’' generated an exception: The server is overloaded or not ready yet.\n",
      "'Fall Mailbag' generated an exception: HTTP code 502 from API (<html>\n",
      "<head><title>502 Bad Gateway</title></head>\n",
      "<body>\n",
      "<center><h1>502 Bad Gateway</h1></center>\n",
      "<hr><center>cloudflare</center>\n",
      "</body>\n",
      "</html>\n",
      ")\n",
      "\"Closure of Winchester's A&E could impact other emergency rooms\" generated an exception: Request timed out: HTTPSConnectionPool(host='api.openai.com', port=443): Read timed out. (read timeout=600)\n",
      "'PPP innovation committee demands senior members declare not to seek reelection or run in difficult districts' generated an exception: Request timed out: HTTPSConnectionPool(host='api.openai.com', port=443): Read timed out. (read timeout=600)\n",
      "'Met Office issues yellow weather warning for Cornwall' generated an exception: The server is overloaded or not ready yet.\n",
      "'Jungkook’s ‘Seven,’ fastest song to garner 1 bln streams on Spotify' generated an exception: Request timed out: HTTPSConnectionPool(host='api.openai.com', port=443): Read timed out. (read timeout=600)\n",
      "'Cornwall Council overspends by almost £15m in six months' generated an exception: The server is overloaded or not ready yet.\n",
      "'Developer warns Rocky Mountain town of severe costs of ‘immoral’ dissent in new open letter' generated an exception: The server is overloaded or not ready yet.\n",
      "'Global advice group sees assets frozen by Federal Court' generated an exception: Request timed out: HTTPSConnectionPool(host='api.openai.com', port=443): Read timed out. (read timeout=600)\n",
      "'At Climate Ambition Summit, U.N. Secretary-General Guterres warns we’re at the ‘gates of hell’' generated an exception: Request timed out: HTTPSConnectionPool(host='api.openai.com', port=443): Read timed out. (read timeout=600)\n",
      "'Storm Ciaran: Heavy rain causes severe flooding' generated an exception: HTTP code 502 from API (<html>\n",
      "<head><title>502 Bad Gateway</title></head>\n",
      "<body>\n",
      "<center><h1>502 Bad Gateway</h1></center>\n",
      "<hr><center>cloudflare</center>\n",
      "</body>\n",
      "</html>\n",
      ")\n",
      "'<a href=\"https://www.ttgasia.com/2023/11/01/tourism-new-zealand-reaches-out-to-more-markets-in-south-east-asia/\">Tourism New Zealand reaches out to more markets in South-east Asia</a>' generated an exception: The server is overloaded or not ready yet.\n",
      "'Why ‘Selling England by the Pound’ Remains Genesis’ Most Complete Album' generated an exception: Request timed out: HTTPSConnectionPool(host='api.openai.com', port=443): Read timed out. (read timeout=600)\n",
      "'<a href=\"https://www.ttgasia.com/2023/10/27/japans-tourism-expo-kicks-off-in-osaka/\">Japan\\'s tourism expo kicks off in Osaka</a>' generated an exception: The server is overloaded or not ready yet.\n",
      "'Going Nordic' generated an exception: Request timed out: HTTPSConnectionPool(host='api.openai.com', port=443): Read timed out. (read timeout=600)\n",
      "'Young jiu-jitsu darling Aguilar dazzles again, keeps world crown' generated an exception: The server is overloaded or not ready yet.\n",
      "\"Protect Oregon's Wildlife Unveils New Campaign\" generated an exception: Request timed out: HTTPSConnectionPool(host='api.openai.com', port=443): Read timed out. (read timeout=600)\n"
     ]
    },
    {
     "name": "stdout",
     "output_type": "stream",
     "text": [
      "'<a href=\"https://www.ttgasia.com/2023/10/30/the-art-of-selling-sarawak/\">The art of selling Sarawak</a>' generated an exception: The server is overloaded or not ready yet.\n",
      "'Mt. Bachelor Upgrades Ahead of the Ski Season' generated an exception: Request timed out: HTTPSConnectionPool(host='api.openai.com', port=443): Read timed out. (read timeout=600)\n",
      "'<a href=\"https://www.ttgasia.com/2023/10/26/thais-new-look/\">THAI\\'s new look</a>' generated an exception: The server is overloaded or not ready yet.\n",
      "\"Reduced flood risk as Salisbury car park's River Avon channel reopens\" generated an exception: Request timed out: HTTPSConnectionPool(host='api.openai.com', port=443): Read timed out. (read timeout=600)\n",
      "'Fall Out Boy at London O2 Arena: Support act and door times' generated an exception: Request timed out: HTTPSConnectionPool(host='api.openai.com', port=443): Read timed out. (read timeout=600)\n",
      "'<a href=\"https://www.ttgasia.com/2023/11/01/new-head-in-town/\">New head in town</a>' generated an exception: Request timed out: HTTPSConnectionPool(host='api.openai.com', port=443): Read timed out. (read timeout=600)\n",
      "'<a href=\"https://www.ttgasia.com/2023/10/25/cebu-welcomes-new-resort-on-bantayan-island/\">Cebu welcomes new resort on Bantayan Island</a>' generated an exception: The server is overloaded or not ready yet.\n",
      "'<a href=\"https://www.ttgasia.com/2023/10/24/staff-exodus-weakens-sri-lankas-hotel-industry-recovery-potential/\">Staff exodus weakens Sri Lanka\\'s hotel industry recovery potential</a>' generated an exception: Request timed out: HTTPSConnectionPool(host='api.openai.com', port=443): Read timed out. (read timeout=600)\n",
      "'<a href=\"https://www.ttgasia.com/2023/10/23/a-taste-for-talent/\">A taste for talent</a>' generated an exception: Request timed out: HTTPSConnectionPool(host='api.openai.com', port=443): Read timed out. (read timeout=600)\n",
      "'<a href=\"https://www.ttgasia.com/2023/10/19/flydubai-launches-services-to-malaysia/\">flydubai launches services to Malaysia</a>' generated an exception: Request timed out: HTTPSConnectionPool(host='api.openai.com', port=443): Read timed out. (read timeout=600)\n",
      "'<a href=\"https://www.ttgasia.com/2023/10/17/national-work-underway-to-raise-competitiveness-of-philippine-hotels/\">National work underway to raise competitiveness of Philippine hotels</a>' generated an exception: Request timed out: HTTPSConnectionPool(host='api.openai.com', port=443): Read timed out. (read timeout=600)\n",
      "'<a href=\"https://www.ttgasia.com/2023/10/11/new-award-challenge-to-propel-sustainability-in-singapore-hotels/\">New award challenge to propel sustainability in Singapore hotels</a>' generated an exception: Request timed out: HTTPSConnectionPool(host='api.openai.com', port=443): Read timed out. (read timeout=600)\n",
      "'<a href=\"https://www.ttgasia.com/2023/09/04/thai-vietjet-boosts-phuket-services/\">Thai Vietjet boosts Phuket services</a>' generated an exception: The server is overloaded or not ready yet.\n",
      "'<a href=\"https://www.ttgasia.com/2023/09/02/tourism-authority-of-thailand-welcomes-new-governor/\">Tourism Authority of Thailand welcomes new governor</a>' generated an exception: The server is overloaded or not ready yet.\n",
      "'<a href=\"https://www.ttgasia.com/2023/09/01/anantara-kihavah-maldives-villas-releases-book-on-the-islands-coral-reef-ecosystem/\">Anantara Kihavah Maldives Villas releases book on the island\\'s coral reef ecosystem</a>' generated an exception: The server is overloaded or not ready yet.\n",
      "'<a href=\"https://www.ttgasia.com/2023/09/29/centara-member-app-boasts-new-privileges-and-promotions/\">Centara member app boasts new privileges and promotions</a>' generated an exception: Request timed out: HTTPSConnectionPool(host='api.openai.com', port=443): Read timed out. (read timeout=600)\n",
      "'<a href=\"https://www.ttgasia.com/2023/09/27/watg-reveals-five-trends-shaping-the-hospitality-landscape-in-2024/\">WATG reveals five trends shaping the hospitality landscape in 2024</a>' generated an exception: Request timed out: HTTPSConnectionPool(host='api.openai.com', port=443): Read timed out. (read timeout=600)\n",
      "'<a href=\"https://www.ttgasia.com/2023/08/25/delta-to-expand-china-services-for-winter-season/\">Delta to expand China services for winter season</a>' generated an exception: The server is overloaded or not ready yet.\n",
      "'<a href=\"https://www.ttgasia.com/2023/09/26/vietjet-aviation-academy-now-part-of-iatas-training-network/\">Vietjet Aviation Academy now part of IATA\\'s training network</a>' generated an exception: Request timed out: HTTPSConnectionPool(host='api.openai.com', port=443): Read timed out. (read timeout=600)\n",
      "'<a href=\"https://www.ttgasia.com/2023/09/25/si-theps-designation-as-a-unesco-heritage-site-raises-capacity-concerns/\">Si Thep\\'s designation as a UNESCO heritage site raises capacity concerns</a>' generated an exception: Request timed out: HTTPSConnectionPool(host='api.openai.com', port=443): Read timed out. (read timeout=600)\n",
      "'<a href=\"https://www.ttgasia.com/2023/09/21/asita-teams-up-with-local-polytechnic-to-jointly-organise-west-java-travel-mart/\">ASITA teams up with local polytechnic to jointly organise West Java Travel Mart</a>' generated an exception: Request timed out: HTTPSConnectionPool(host='api.openai.com', port=443): Read timed out. (read timeout=600)\n",
      "'<a href=\"https://www.ttgasia.com/2023/09/21/global-tourism-leaders-unite-in-saudi-arabia-for-world-tourism-day/\">Global tourism leaders unite in Saudi Arabia for World Tourism Day</a>' generated an exception: Request timed out: HTTPSConnectionPool(host='api.openai.com', port=443): Read timed out. (read timeout=600)\n",
      "'<a href=\"https://www.ttgasia.com/2023/08/29/eva-air-adopts-ndc-extends-amadeus-partnership/\">EVA Air adopts NDC, extends Amadeus partnership</a>' generated an exception: The server is overloaded or not ready yet.\n",
      "'<a href=\"https://www.ttgasia.com/2023/09/13/thai-government-champions-eased-entry-for-chinese-travellers/\">Thai government champions eased entry for Chinese travellers</a>' generated an exception: Request timed out: HTTPSConnectionPool(host='api.openai.com', port=443): Read timed out. (read timeout=600)\n",
      "'For the Record, Op. 259: Hilary Hahn; Jasper String Quartet; Ryota Higashi' generated an exception: The server is overloaded or not ready yet.\n",
      "'<a href=\"https://www.ttgasia.com/2023/08/25/stacey-cameron-joins-holiday-inn-suites-geelong-as-dosm/\">Stacey Cameron joins Holiday Inn &amp;amp; Suites Geelong as DOSM</a>' generated an exception: Request timed out: HTTPSConnectionPool(host='api.openai.com', port=443): Read timed out. (read timeout=600)\n",
      "'Snowflake to add developer tools to Snowpark, plans cost management feature' generated an exception: The server is overloaded or not ready yet.\n",
      "'<a href=\"https://www.ttgasia.com/2023/08/21/demand-for-china-outbound-travel-picking-up/\">Demand for China outbound travel picking up</a>' generated an exception: Request timed out: HTTPSConnectionPool(host='api.openai.com', port=443): Read timed out. (read timeout=600)\n",
      "'<a href=\"https://www.ttgasia.com/2023/08/16/thailand-to-position-nakhon-si-thammarat-as-a-haven-of-adventure/\">Thailand to position Nakhon Si Thammarat as a haven of adventure</a>' generated an exception: Request timed out: HTTPSConnectionPool(host='api.openai.com', port=443): Read timed out. (read timeout=600)\n",
      "'Virtuoso Shares Future Bookings Are Up 36 Percent at Chairman’s Event' generated an exception: The server is overloaded or not ready yet.\n",
      "'Onefinestay Unveils New Villas Across Portfolio' generated an exception: The server is overloaded or not ready yet.\n",
      "'Slow Cooker Lamb Shanks' generated an exception: Request timed out: HTTPSConnectionPool(host='api.openai.com', port=443): Read timed out. (read timeout=600)\n",
      "'Adriano Lucatelli: «Why Capitalism Needs a Great Reset»' generated an exception: The server is overloaded or not ready yet.\n",
      "'Santander Welcomes Top Credit Suisse Banker With Open Arms' generated an exception: The server is overloaded or not ready yet.\n",
      "'Spark targets data centres, AI as three-year strategy ends' generated an exception: Request timed out: HTTPSConnectionPool(host='api.openai.com', port=443): Read timed out. (read timeout=600)\n",
      "'THE STACKS: How a Small Bookstore Plans to Make Big Waves on Waters Avenue' generated an exception: Request timed out: HTTPSConnectionPool(host='api.openai.com', port=443): Read timed out. (read timeout=600)\n"
     ]
    },
    {
     "name": "stdout",
     "output_type": "stream",
     "text": [
      "'After Ninoy Aquino Stadium, Rizal Coliseum also converted into quarantine facility' generated an exception: Request timed out: HTTPSConnectionPool(host='api.openai.com', port=443): Read timed out. (read timeout=600)\n",
      "'SMC efforts to help in COVID-19 fight now close to a billion pesos' generated an exception: Request timed out: HTTPSConnectionPool(host='api.openai.com', port=443): Read timed out. (read timeout=600)\n",
      "'Crystal Announces 2025 Grand Journeys' generated an exception: Request timed out: HTTPSConnectionPool(host='api.openai.com', port=443): Read timed out. (read timeout=600)\n",
      "'Preferred Hotels & Resorts Welcomes 15 New Member Properties' generated an exception: Request timed out: HTTPSConnectionPool(host='api.openai.com', port=443): Read timed out. (read timeout=600)\n",
      "'On The Record: Lynyrd Skynyrd’s ‘Fyfty,’ plus Leon Rosselson, Half Stack, Robert Finley, & Chest Fever' generated an exception: Request timed out: HTTPSConnectionPool(host='api.openai.com', port=443): Read timed out. (read timeout=600)\n",
      "'Police Seek to Identify Suspects in Robbery at Dave & Buster’s' generated an exception: The server is overloaded or not ready yet.\n",
      "'New Swiss Custody Bank on the Horizon' generated an exception: Request timed out: HTTPSConnectionPool(host='api.openai.com', port=443): Read timed out. (read timeout=600)\n",
      "'Man charged with having thousands of indecent images of children' generated an exception: Request timed out: HTTPSConnectionPool(host='api.openai.com', port=443): Read timed out. (read timeout=600)\n",
      "'Emergency road closure on Stratford Road near Tesco' generated an exception: Request timed out: HTTPSConnectionPool(host='api.openai.com', port=443): Read timed out. (read timeout=600)\n",
      "'Dismay as historic Dursley churches targeted by vandals' generated an exception: Request timed out: HTTPSConnectionPool(host='api.openai.com', port=443): Read timed out. (read timeout=600)\n",
      "'Operation “Joint Warrior” – Bombing Cape Wrath' generated an exception: Request timed out: HTTPSConnectionPool(host='api.openai.com', port=443): Read timed out. (read timeout=600)\n",
      "'PSL statement: Free Palestine, free all Palestinian political prisoners, end all U.S. aid to the Israeli apartheid regime!' generated an exception: Request timed out: HTTPSConnectionPool(host='api.openai.com', port=443): Read timed out. (read timeout=600)\n",
      "'Green Day announces global 2024 stadium tour' generated an exception: Request timed out: HTTPSConnectionPool(host='api.openai.com', port=443): Read timed out. (read timeout=600)\n",
      "'Coldplay’s Portugal run generates €36m for economy' generated an exception: Request timed out: HTTPSConnectionPool(host='api.openai.com', port=443): Read timed out. (read timeout=600)\n",
      "'European festival line-ups take shape for ’24' generated an exception: Request timed out: HTTPSConnectionPool(host='api.openai.com', port=443): Read timed out. (read timeout=600)\n",
      "'5 Things to Know Today, Nov. 3, In Montgomery County' generated an exception: Request timed out: HTTPSConnectionPool(host='api.openai.com', port=443): Read timed out. (read timeout=600)\n",
      "'It’s Time to ‘Fall Back’' generated an exception: Request timed out: HTTPSConnectionPool(host='api.openai.com', port=443): Read timed out. (read timeout=600)\n",
      "'Dan Cox Announces Congressional Run' generated an exception: Request timed out: HTTPSConnectionPool(host='api.openai.com', port=443): Read timed out. (read timeout=600)\n",
      "'Conservation paleobiology: Eyeing the past to restore today’s ecosystems' generated an exception: The server is overloaded or not ready yet.\n",
      "'Israel attacked Ambulance Convoy, killed and wounded reported' generated an exception: Request timed out: HTTPSConnectionPool(host='api.openai.com', port=443): Read timed out. (read timeout=600)\n",
      "'Clever DNA tricks' generated an exception: The server is overloaded or not ready yet.\n",
      "'Off to College' generated an exception: Request timed out: HTTPSConnectionPool(host='api.openai.com', port=443): Read timed out. (read timeout=600)\n",
      "'The neurons that make us feel hangry' generated an exception: The server is overloaded or not ready yet.\n",
      "'Jury returns ‘not guilty’ verdict for Colonial case defendants' generated an exception: Request timed out: HTTPSConnectionPool(host='api.openai.com', port=443): Read timed out. (read timeout=600)\n",
      "'Physical media trumps digital' generated an exception: Request timed out: HTTPSConnectionPool(host='api.openai.com', port=443): Read timed out. (read timeout=600)\n",
      "'Art Co-op fosters creativity and community' generated an exception: Request timed out: HTTPSConnectionPool(host='api.openai.com', port=443): Read timed out. (read timeout=600)\n",
      "'America East Women’s Basketball Preview' generated an exception: Request timed out: HTTPSConnectionPool(host='api.openai.com', port=443): Read timed out. (read timeout=600)\n",
      "'How optimizing indoor humidity can help stop the spread of Covid and flu' generated an exception: Request timed out: HTTPSConnectionPool(host='api.openai.com', port=443): Read timed out. (read timeout=600)\n",
      "'The race against radon' generated an exception: The server is overloaded or not ready yet.\n",
      "'Deep underground, robotic teamwork saves the day' generated an exception: Request timed out: HTTPSConnectionPool(host='api.openai.com', port=443): Read timed out. (read timeout=600)\n",
      "'Medications for opioid use disorder — MOUD — and adolescents' generated an exception: Request timed out: HTTPSConnectionPool(host='api.openai.com', port=443): Read timed out. (read timeout=600)\n",
      "'Our oceans’ future: Hot and troubled' generated an exception: Request timed out: HTTPSConnectionPool(host='api.openai.com', port=443): Read timed out. (read timeout=600)\n",
      "'Get out in your yard and count bugs' generated an exception: Request timed out: HTTPSConnectionPool(host='api.openai.com', port=443): Read timed out. (read timeout=600)\n",
      "'Animal personalities can trip up science, but there’s a solution' generated an exception: Request timed out: HTTPSConnectionPool(host='api.openai.com', port=443): Read timed out. (read timeout=600)\n",
      "'Covid, RSV and the flu: A case of viral interference?' generated an exception: The server is overloaded or not ready yet.\n",
      "'The US abortion decision is already having global impacts' generated an exception: The server is overloaded or not ready yet.\n",
      "'Can statistics help crack the mysterious Voynich manuscript?' generated an exception: The server is overloaded or not ready yet.\n",
      "'Let’s keep meetings virtual after Covid' generated an exception: The server is overloaded or not ready yet.\n",
      "'SARS-CoV-2: Evolution of a virus' generated an exception: The server is overloaded or not ready yet.\n",
      "'What’s the fittest fitness for the oldest old?' generated an exception: Request timed out: HTTPSConnectionPool(host='api.openai.com', port=443): Read timed out. (read timeout=600)\n",
      "'Making microbots smart' generated an exception: Request timed out: HTTPSConnectionPool(host='api.openai.com', port=443): Read timed out. (read timeout=600)\n",
      "'The challenges of antiviral treatments' generated an exception: The server is overloaded or not ready yet.\n",
      "'How enlisting dentists can speed up Covid-19 vaccinations' generated an exception: The server is overloaded or not ready yet.\n",
      "'Cirencester man admits attacking police officer' generated an exception: The server is overloaded or not ready yet.\n",
      "'Can a fire-ravaged forest of Joshua trees be restored?' generated an exception: Request timed out: HTTPSConnectionPool(host='api.openai.com', port=443): Read timed out. (read timeout=600)\n",
      "'What Does Duck Taste Like?' generated an exception: The server is overloaded or not ready yet.\n",
      "'The Knowable Magazine Podcast, season 2: Trailer' generated an exception: Request timed out: HTTPSConnectionPool(host='api.openai.com', port=443): Read timed out. (read timeout=600)\n",
      "'Let’s change how we pay for hospitals' generated an exception: Request timed out: HTTPSConnectionPool(host='api.openai.com', port=443): Read timed out. (read timeout=600)\n",
      "'Prey tell: How moths elude bats' generated an exception: Request timed out: HTTPSConnectionPool(host='api.openai.com', port=443): Read timed out. (read timeout=600)\n",
      "'The two sides of envy at work' generated an exception: Request timed out: HTTPSConnectionPool(host='api.openai.com', port=443): Read timed out. (read timeout=600)\n"
     ]
    },
    {
     "name": "stdout",
     "output_type": "stream",
     "text": [
      "'Leaders in Trading 2023: Meet the nominees for…. Best Broker Electronic Trading Initiative' generated an exception: The server is overloaded or not ready yet.\n",
      "'Pandemic economics: The economy of fear' generated an exception: Request timed out: HTTPSConnectionPool(host='api.openai.com', port=443): Read timed out. (read timeout=600)\n",
      "'Yes, all this screen time is hurting your eyes' generated an exception: Request timed out: HTTPSConnectionPool(host='api.openai.com', port=443): Read timed out. (read timeout=600)\n",
      "'The weird biology of asexual lizards' generated an exception: Request timed out: HTTPSConnectionPool(host='api.openai.com', port=443): Read timed out. (read timeout=600)\n",
      "'The varied landscape of universal health care' generated an exception: Request timed out: HTTPSConnectionPool(host='api.openai.com', port=443): Read timed out. (read timeout=600)\n",
      "'Reminder from fire department: ‘Fall back’ on Nov. 5, check smoke alarms' generated an exception: The server is overloaded or not ready yet.\n",
      "'Roadside fires along Highway 101 slow traffic through SLO Wednesday' generated an exception: The server is overloaded or not ready yet.\n",
      "'ONX Wines hosting free holiday event' generated an exception: The server is overloaded or not ready yet.\n",
      "'Covid-19 lockdowns: early evidence suggests political support and trust in democracy has increased' generated an exception: The server is overloaded or not ready yet.\n",
      "'Downtown holiday lighting ceremony returns for its 37th year Nov. 24' generated an exception: The server is overloaded or not ready yet.\n",
      "'Annual quilt auction benefits local nonprofits, homeless shelter' generated an exception: The server is overloaded or not ready yet.\n",
      "'‘You cannot begin by calling me France’s most famous living artist!’: Sophie Calle interviewed' generated an exception: The server is overloaded or not ready yet.\n",
      "'Aussie life' generated an exception: The server is overloaded or not ready yet.\n",
      "'Spellbinding performance of a career-defining record: Corinne Rae Bailey, at Ladbroke Hall, reviewed' generated an exception: The server is overloaded or not ready yet.\n",
      "'Real women do not behave like this: Lyonesse, at the Harold Pinter Theatre, reviewed' generated an exception: The server is overloaded or not ready yet.\n",
      "'What Goes Around' generated an exception: Request timed out: HTTPSConnectionPool(host='api.openai.com', port=443): Read timed out. (read timeout=600)\n",
      "'Clayton Kershaw Announces That He’s Had Shoulder Surgery, Won’t Be Ready to Open 2024' generated an exception: Request timed out: HTTPSConnectionPool(host='api.openai.com', port=443): Read timed out. (read timeout=600)\n",
      "'Golden Knights vs. Avalanche Prediction: Live Odds, Stats, History & Picks – Saturday, November 4, 2023' generated an exception: Request timed out: HTTPSConnectionPool(host='api.openai.com', port=443): Read timed out. (read timeout=600)\n",
      "'This Colorado university created a sports bar concept from scratch' generated an exception: The server is overloaded or not ready yet.\n",
      "'New York’s Union College fast tracks dining hall expansion, modernization' generated an exception: The server is overloaded or not ready yet.\n",
      "'Walk Thru Bru concept brings grab and go to stadium beverage sales' generated an exception: The server is overloaded or not ready yet.\n",
      "'Can Trump be on the ballot in 2024? It can hinge on the meaning of ‘insurrection’' generated an exception: The server is overloaded or not ready yet.\n",
      "'Making the most of soup season: 5 Tips for restaurants to thrive' generated an exception: The server is overloaded or not ready yet.\n",
      "'Marriott’s “Suite Night Awards” to Transform into “Nightly Upgrade Awards” in 2024' generated an exception: Request timed out: HTTPSConnectionPool(host='api.openai.com', port=443): Read timed out. (read timeout=600)\n",
      "'US election hangs over Price of War conference' generated an exception: The server is overloaded or not ready yet.\n",
      "'WTKA Roundtable 11/2/2023: Poor Jim McElwain' generated an exception: The server is overloaded or not ready yet.\n",
      "'Wilkinson pauses East Coast offshore oil exploration bid' generated an exception: The server is overloaded or not ready yet.\n",
      "'MGoRadio 9.8: Think of the Children' generated an exception: The server is overloaded or not ready yet.\n",
      "'Ignore your pension fund and expect to be poorer in old age' generated an exception: The server is overloaded or not ready yet.\n",
      "'SUV crashes into Apple Valley Smiles and Orthodontics' generated an exception: The server is overloaded or not ready yet.\n",
      "'WFNY BrownsCast S2:E17 – Week 9 Preview, Cardinals come to Cleveland' generated an exception: The server is overloaded or not ready yet.\n",
      "'Kart racer Danny Bean making his mark in motorsport' generated an exception: The server is overloaded or not ready yet.\n",
      "'The shocking truth about adulterated wine: it was delicious' generated an exception: Request timed out: HTTPSConnectionPool(host='api.openai.com', port=443): Read timed out. (read timeout=600)\n",
      "'The smell of flesh is everywhere: A dispatch from Gaza' generated an exception: Request timed out: HTTPSConnectionPool(host='api.openai.com', port=443): Read timed out. (read timeout=600)\n",
      "'Spectacularly wrong on foreign policy' generated an exception: Request timed out: HTTPSConnectionPool(host='api.openai.com', port=443): Read timed out. (read timeout=600)\n",
      "'Has the Bank of England done enough to stave off recession?' generated an exception: Request timed out: HTTPSConnectionPool(host='api.openai.com', port=443): Read timed out. (read timeout=600)\n",
      "'Tuning in and dropping out at Gilpin Hotel' generated an exception: Request timed out: HTTPSConnectionPool(host='api.openai.com', port=443): Read timed out. (read timeout=600)\n",
      "'WFNY BrownsCast S2:E8 – Ravens at Browns Week 4 Preview' generated an exception: The server is overloaded or not ready yet.\n",
      "'Not Yet Uhuru for Pastor Ezekiel Odero, DPP says' generated an exception: The server is overloaded or not ready yet.\n",
      "'Provincial finance ministers press Freeland on carbon tax changes during CPP meeting' generated an exception: Request timed out: HTTPSConnectionPool(host='api.openai.com', port=443): Read timed out. (read timeout=600)\n",
      "'Beloved Grand Ole Opry Members, The Isaacs, Rally for Israel with Prayer and Fundraising Efforts' generated an exception: Request timed out: HTTPSConnectionPool(host='api.openai.com', port=443): Read timed out. (read timeout=600)\n",
      "'Hezbollah chief’s speech leaves IDF on high alert' generated an exception: Request timed out: HTTPSConnectionPool(host='api.openai.com', port=443): Read timed out. (read timeout=600)\n",
      "'This is KLM House 104: A Gift To All World Business Class Passengers' generated an exception: The server is overloaded or not ready yet.\n",
      "'CHP arrests 4 suspects after carjacking a motorist stranded on the I-15 freeway near Baker' generated an exception: Request timed out: HTTPSConnectionPool(host='api.openai.com', port=443): Read timed out. (read timeout=600)\n",
      "'The Daily Blog Open Mic – 4th November 2023' generated an exception: Request timed out: HTTPSConnectionPool(host='api.openai.com', port=443): Read timed out. (read timeout=600)\n",
      "'Orange Liqueur Soufflé and The Complete Book of French Cooking' generated an exception: Request timed out: HTTPSConnectionPool(host='api.openai.com', port=443): Read timed out. (read timeout=600)\n",
      "'Tudor Dixon’s “small business” is driving US refractory manufacturers out of business' generated an exception: Request timed out: HTTPSConnectionPool(host='api.openai.com', port=443): Read timed out. (read timeout=600)\n",
      "'Want to #RestoreRoe in Michigan? Here’s what to do and what NOT to do to support Prop 3!' generated an exception: Request timed out: HTTPSConnectionPool(host='api.openai.com', port=443): Read timed out. (read timeout=600)\n",
      "'Fair Isle postmistress thanked for 30 years of ‘loyal service’' generated an exception: Request timed out: HTTPSConnectionPool(host='api.openai.com', port=443): Read timed out. (read timeout=600)\n",
      "'Seen And Heard From 616' generated an exception: Request timed out: HTTPSConnectionPool(host='api.openai.com', port=443): Read timed out. (read timeout=600)\n",
      "'Bandsman talk will be music to the ears of Lees Meeting Point' generated an exception: Request timed out: HTTPSConnectionPool(host='api.openai.com', port=443): Read timed out. (read timeout=600)\n",
      "'Iranian Progressives Respond to Israel’s Genocidal Assault on Palestinians' generated an exception: Request timed out: HTTPSConnectionPool(host='api.openai.com', port=443): Read timed out. (read timeout=600)\n",
      "'Artist Visa Updates, Force Majeure Clauses, Streaming Licenses, and Deep Thoughts' generated an exception: Request timed out: HTTPSConnectionPool(host='api.openai.com', port=443): Read timed out. (read timeout=600)\n",
      "'University Presidents Announce New Task Force On Antisemitism' generated an exception: Request timed out: HTTPSConnectionPool(host='api.openai.com', port=443): Read timed out. (read timeout=600)\n"
     ]
    }
   ],
   "source": [
    "#test = get_name_url(urls(language = 'EN')[:2])\n",
    "#tweet={}\n",
    "# We can use a with statement to ensure threads are cleaned up promptly\n",
    "with ThreadPoolExecutor(max_workers=16) as executor:\n",
    "    # Start the load operations and mark each future with its URL\n",
    "    tweet_to_news = {executor.submit(get_response, f\"\"\"\n",
    "              After reading the text below, write a 50-100 word tweet expressing your thoughts.\n",
    "              Title: {title}\n",
    "              Content: {text}\n",
    "              Your tweet:\n",
    "           \"\"\"): title for title,text in list(summary.items())[1241:]}\n",
    "    for future in tqdm(concurrent.futures.as_completed(tweet_to_news)):\n",
    "        title = tweet_to_news[future]\n",
    "        try:\n",
    "            tweet[title]=future.result()\n",
    "        except Exception as exc:\n",
    "            print('%r generated an exception: %s' % (title, exc))"
   ]
  },
  {
   "cell_type": "code",
   "execution_count": 34,
   "id": "b8654c9f",
   "metadata": {},
   "outputs": [],
   "source": [
    "with open('D:/Googledownload/tweet.pkl','wb') as f:\n",
    "    pickle.dump(tweet, f, protocol=pickle.HIGHEST_PROTOCOL)"
   ]
  },
  {
   "cell_type": "code",
   "execution_count": 35,
   "id": "ff2445bc",
   "metadata": {},
   "outputs": [],
   "source": [
    "with open(r'D:\\Googledownload\\tweet.pkl', 'rb') as handle:\n",
    "    tweet2 = pickle.load(handle)"
   ]
  },
  {
   "cell_type": "code",
   "execution_count": 5,
   "id": "993778f0",
   "metadata": {},
   "outputs": [
    {
     "data": {
      "application/vnd.jupyter.widget-view+json": {
       "model_id": "84f0417453cb49ef9f5d0254b090ec31",
       "version_major": 2,
       "version_minor": 0
      },
      "text/plain": [
       "0it [00:00, ?it/s]"
      ]
     },
     "metadata": {},
     "output_type": "display_data"
    }
   ],
   "source": [
    "#test = get_name_url(urls(language = 'EN')[:2])\n",
    "# We can use a with statement to ensure threads are cleaned up promptly\n",
    "category={}\n",
    "with ThreadPoolExecutor(max_workers=16) as executor:\n",
    "    # Start the load operations and mark each future with its URL\n",
    "    tweet_to_news = {executor.submit(get_response, f\"\"\"\n",
    "              Reading the news below, categorize this news based on content and title, you only need to tell me the answer (category), do not add any other words.\n",
    "              For example:\n",
    "                  Title: India beat New Zealand to reach final after Virat Kohli's record century\n",
    "                  Content: India reached the World Cup final by holding off New Zealand on a memorable night in Mumbai that included Virat Kohli's record-breaking 50th one-day international century.\n",
    "                  Your answer: sport\n",
    "              Now read this news:\n",
    "                  Title: {title}\n",
    "                  Content: {text}\n",
    "                  Your answer:\n",
    "                \n",
    "                  \n",
    "           \"\"\"): title for title,text in list(summary.items())}\n",
    "    for future in tqdm(concurrent.futures.as_completed(tweet_to_news)):\n",
    "        title = tweet_to_news[future]\n",
    "        try:\n",
    "            category[title]=future.result()\n",
    "        except Exception as exc:\n",
    "            print('%r generated an exception: %s' % (title, exc))"
   ]
  },
  {
   "cell_type": "code",
   "execution_count": 5,
   "id": "aeaae427",
   "metadata": {},
   "outputs": [],
   "source": [
    "with open(r'D:\\Googledownload\\category.pkl', 'rb') as handle:\n",
    "    category = pickle.load(handle)"
   ]
  },
  {
   "cell_type": "code",
   "execution_count": 7,
   "id": "8142750d",
   "metadata": {},
   "outputs": [],
   "source": [
    "with open(r'D:\\Googledownload\\tweet.pkl', 'rb') as handle:\n",
    "    tweet = pickle.load(handle)"
   ]
  }
 ],
 "metadata": {
  "kernelspec": {
   "display_name": "Python 3 (ipykernel)",
   "language": "python",
   "name": "python3"
  },
  "language_info": {
   "codemirror_mode": {
    "name": "ipython",
    "version": 3
   },
   "file_extension": ".py",
   "mimetype": "text/x-python",
   "name": "python",
   "nbconvert_exporter": "python",
   "pygments_lexer": "ipython3",
   "version": "3.11.5"
  },
  "widgets": {
   "application/vnd.jupyter.widget-state+json": {
    "state": {
     "051dd36b2d704c958816f7e7dbbcfac8": {
      "model_module": "@jupyter-widgets/base",
      "model_module_version": "1.2.0",
      "model_name": "LayoutModel",
      "state": {
       "width": "20px"
      }
     },
     "05a1777417c3445384674a43540e2b1a": {
      "model_module": "@jupyter-widgets/base",
      "model_module_version": "1.2.0",
      "model_name": "LayoutModel",
      "state": {}
     },
     "065ee88c057d4dc5b1adf3173a273287": {
      "model_module": "@jupyter-widgets/controls",
      "model_module_version": "1.5.0",
      "model_name": "HTMLModel",
      "state": {
       "layout": "IPY_MODEL_6d1500707a4f400b8dd6755e230854bb",
       "style": "IPY_MODEL_2ff2ca474fef4d54a6a0748d588b9b44",
       "value": " 4341/14330 [13:43:01&lt;34:59:12, 12.61s/it]"
      }
     },
     "0d9f6b11aeeb49e4b9070170bed4ec2d": {
      "model_module": "@jupyter-widgets/controls",
      "model_module_version": "1.5.0",
      "model_name": "DescriptionStyleModel",
      "state": {
       "description_width": ""
      }
     },
     "1016e07163cf411d8e4f3a6011763785": {
      "model_module": "@jupyter-widgets/controls",
      "model_module_version": "1.5.0",
      "model_name": "ProgressStyleModel",
      "state": {
       "description_width": ""
      }
     },
     "10247d925ea4433baf0b843e2acd1da8": {
      "model_module": "@jupyter-widgets/base",
      "model_module_version": "1.2.0",
      "model_name": "LayoutModel",
      "state": {}
     },
     "1b4c074025fa4de6bb48349b9100e9be": {
      "model_module": "@jupyter-widgets/controls",
      "model_module_version": "1.5.0",
      "model_name": "DescriptionStyleModel",
      "state": {
       "description_width": ""
      }
     },
     "20252948c2b946069a8b9ad1f4866a86": {
      "model_module": "@jupyter-widgets/controls",
      "model_module_version": "1.5.0",
      "model_name": "FloatProgressModel",
      "state": {
       "bar_style": "danger",
       "layout": "IPY_MODEL_c8d9bccc9d474ebe9310e40dc3721120",
       "max": 1,
       "style": "IPY_MODEL_a43f2c26e7ba4cf681c534ed951be8a2"
      }
     },
     "22f74640fe0743c29c5f84fedee3b481": {
      "model_module": "@jupyter-widgets/controls",
      "model_module_version": "1.5.0",
      "model_name": "HBoxModel",
      "state": {
       "children": [
        "IPY_MODEL_91a5822ecb1e4c0fbbc07453e1dc3814",
        "IPY_MODEL_d8392486de7240e2844119cb9654acf4",
        "IPY_MODEL_ef2d24b477ec41fd8ddf273d14372207"
       ],
       "layout": "IPY_MODEL_b9e815f6c3be458daddd50aae8248e36"
      }
     },
     "26b0b9188fbe4bc7ae643bdf82bf62ad": {
      "model_module": "@jupyter-widgets/base",
      "model_module_version": "1.2.0",
      "model_name": "LayoutModel",
      "state": {}
     },
     "27cdbf072ea24b7698bfd5c61d74e48e": {
      "model_module": "@jupyter-widgets/controls",
      "model_module_version": "1.5.0",
      "model_name": "HTMLModel",
      "state": {
       "layout": "IPY_MODEL_dddb0c1d92654681b65f1c5a242e61e8",
       "style": "IPY_MODEL_d85978aa9eae4f30830bc036a49e9b1a",
       "value": "  0%"
      }
     },
     "2a55f0d5f1c14c9f9cc68123d8c0c757": {
      "model_module": "@jupyter-widgets/controls",
      "model_module_version": "1.5.0",
      "model_name": "HBoxModel",
      "state": {
       "children": [
        "IPY_MODEL_3669661763e84a4c8471ed0e6f5f38db",
        "IPY_MODEL_20252948c2b946069a8b9ad1f4866a86",
        "IPY_MODEL_84285a988ca54ab88b0f8415887d882e"
       ],
       "layout": "IPY_MODEL_2ec9857f892e4159905d049aa061b35c"
      }
     },
     "2ec9857f892e4159905d049aa061b35c": {
      "model_module": "@jupyter-widgets/base",
      "model_module_version": "1.2.0",
      "model_name": "LayoutModel",
      "state": {}
     },
     "2ff2ca474fef4d54a6a0748d588b9b44": {
      "model_module": "@jupyter-widgets/controls",
      "model_module_version": "1.5.0",
      "model_name": "DescriptionStyleModel",
      "state": {
       "description_width": ""
      }
     },
     "33dfa4b1064d403f89d052e77934e6dc": {
      "model_module": "@jupyter-widgets/base",
      "model_module_version": "1.2.0",
      "model_name": "LayoutModel",
      "state": {}
     },
     "343e34e7ab6441609add8c61c8b643c3": {
      "model_module": "@jupyter-widgets/controls",
      "model_module_version": "1.5.0",
      "model_name": "HBoxModel",
      "state": {
       "children": [
        "IPY_MODEL_d4473efa5cca4aa9b95a944ef051a27b",
        "IPY_MODEL_5a1b0ccd987044ca9c03b4c37410e0f8",
        "IPY_MODEL_e6fe8cc3c5654c82957060b6b3ff3251"
       ],
       "layout": "IPY_MODEL_b8c59f9a27d846708cdcc0d79ceea79b"
      }
     },
     "3669661763e84a4c8471ed0e6f5f38db": {
      "model_module": "@jupyter-widgets/controls",
      "model_module_version": "1.5.0",
      "model_name": "HTMLModel",
      "state": {
       "layout": "IPY_MODEL_ab1fe9d4d97f41f9bf45414142d7c961",
       "style": "IPY_MODEL_1b4c074025fa4de6bb48349b9100e9be"
      }
     },
     "3929bf9f7a0348c597c2df504fd609bd": {
      "model_module": "@jupyter-widgets/base",
      "model_module_version": "1.2.0",
      "model_name": "LayoutModel",
      "state": {}
     },
     "3bbd8e08f1e64414a38ba3f75e7d6de3": {
      "model_module": "@jupyter-widgets/controls",
      "model_module_version": "1.5.0",
      "model_name": "DescriptionStyleModel",
      "state": {
       "description_width": ""
      }
     },
     "46a69fc71c2243a6b81b68f9ee158a76": {
      "model_module": "@jupyter-widgets/base",
      "model_module_version": "1.2.0",
      "model_name": "LayoutModel",
      "state": {
       "width": "20px"
      }
     },
     "528a54f15bfd42abbdf1e4111c164b17": {
      "model_module": "@jupyter-widgets/base",
      "model_module_version": "1.2.0",
      "model_name": "LayoutModel",
      "state": {}
     },
     "528c3bee75864e8fb3a25cf6dab1538a": {
      "model_module": "@jupyter-widgets/base",
      "model_module_version": "1.2.0",
      "model_name": "LayoutModel",
      "state": {}
     },
     "5a1b0ccd987044ca9c03b4c37410e0f8": {
      "model_module": "@jupyter-widgets/controls",
      "model_module_version": "1.5.0",
      "model_name": "FloatProgressModel",
      "state": {
       "bar_style": "success",
       "layout": "IPY_MODEL_d5efd6f92ca64e19a641032e2d31a6a4",
       "max": 1,
       "style": "IPY_MODEL_db4d00e8bb29499db0acf1c0e9f76559",
       "value": 1
      }
     },
     "602c0459706a4fe5b583dc3db5dff9bc": {
      "model_module": "@jupyter-widgets/controls",
      "model_module_version": "1.5.0",
      "model_name": "HBoxModel",
      "state": {
       "children": [
        "IPY_MODEL_27cdbf072ea24b7698bfd5c61d74e48e",
        "IPY_MODEL_616d33ac56db4c2c8fdd86517b55fe4d",
        "IPY_MODEL_f11ed0e5647c47bd852a6157755bda41"
       ],
       "layout": "IPY_MODEL_528a54f15bfd42abbdf1e4111c164b17"
      }
     },
     "616d33ac56db4c2c8fdd86517b55fe4d": {
      "model_module": "@jupyter-widgets/controls",
      "model_module_version": "1.5.0",
      "model_name": "FloatProgressModel",
      "state": {
       "bar_style": "danger",
       "layout": "IPY_MODEL_528c3bee75864e8fb3a25cf6dab1538a",
       "max": 14348,
       "style": "IPY_MODEL_a98cdf04b31248bab4f8629c64bc0778",
       "value": 18
      }
     },
     "633a81f078e34d52945c08cf6d529b0e": {
      "model_module": "@jupyter-widgets/base",
      "model_module_version": "1.2.0",
      "model_name": "LayoutModel",
      "state": {
       "width": "20px"
      }
     },
     "659602f1e8924ec8981d3b6ffb65d521": {
      "model_module": "@jupyter-widgets/controls",
      "model_module_version": "1.5.0",
      "model_name": "DescriptionStyleModel",
      "state": {
       "description_width": ""
      }
     },
     "6c2632bc5c6540b88e91bf0dfad8c86d": {
      "model_module": "@jupyter-widgets/controls",
      "model_module_version": "1.5.0",
      "model_name": "DescriptionStyleModel",
      "state": {
       "description_width": ""
      }
     },
     "6d1500707a4f400b8dd6755e230854bb": {
      "model_module": "@jupyter-widgets/base",
      "model_module_version": "1.2.0",
      "model_name": "LayoutModel",
      "state": {}
     },
     "6f8232def68c419f8705418cbe9c7e1a": {
      "model_module": "@jupyter-widgets/base",
      "model_module_version": "1.2.0",
      "model_name": "LayoutModel",
      "state": {}
     },
     "732e8e880a384bf7b290733724b4deab": {
      "model_module": "@jupyter-widgets/controls",
      "model_module_version": "1.5.0",
      "model_name": "ProgressStyleModel",
      "state": {
       "description_width": ""
      }
     },
     "783869924d4c4080994fd285ebca4462": {
      "model_module": "@jupyter-widgets/controls",
      "model_module_version": "1.5.0",
      "model_name": "DescriptionStyleModel",
      "state": {
       "description_width": ""
      }
     },
     "783b6a9a02fc462089986bdecf39370f": {
      "model_module": "@jupyter-widgets/controls",
      "model_module_version": "1.5.0",
      "model_name": "DescriptionStyleModel",
      "state": {
       "description_width": ""
      }
     },
     "795d490150fd416287003d0295aa9fc3": {
      "model_module": "@jupyter-widgets/controls",
      "model_module_version": "1.5.0",
      "model_name": "FloatProgressModel",
      "state": {
       "bar_style": "danger",
       "layout": "IPY_MODEL_633a81f078e34d52945c08cf6d529b0e",
       "max": 1,
       "style": "IPY_MODEL_1016e07163cf411d8e4f3a6011763785",
       "value": 1
      }
     },
     "7b6a905d3b7247d48e0255ba0389e6cf": {
      "model_module": "@jupyter-widgets/base",
      "model_module_version": "1.2.0",
      "model_name": "LayoutModel",
      "state": {}
     },
     "7c0bc60825ee48049a09c5ce23baa114": {
      "model_module": "@jupyter-widgets/controls",
      "model_module_version": "1.5.0",
      "model_name": "HTMLModel",
      "state": {
       "layout": "IPY_MODEL_05a1777417c3445384674a43540e2b1a",
       "style": "IPY_MODEL_3bbd8e08f1e64414a38ba3f75e7d6de3",
       "value": " 30%"
      }
     },
     "7ea89abdf6a54603b9c1bbd6aab8ae48": {
      "model_module": "@jupyter-widgets/base",
      "model_module_version": "1.2.0",
      "model_name": "LayoutModel",
      "state": {}
     },
     "81cdefaf76104aa7a1836a1bcc281a43": {
      "model_module": "@jupyter-widgets/base",
      "model_module_version": "1.2.0",
      "model_name": "LayoutModel",
      "state": {}
     },
     "84285a988ca54ab88b0f8415887d882e": {
      "model_module": "@jupyter-widgets/controls",
      "model_module_version": "1.5.0",
      "model_name": "HTMLModel",
      "state": {
       "layout": "IPY_MODEL_6f8232def68c419f8705418cbe9c7e1a",
       "style": "IPY_MODEL_783b6a9a02fc462089986bdecf39370f",
       "value": " 0/? [00:00&lt;?, ?it/s]"
      }
     },
     "8c04229feadc4f479dbb0cd2679ad90e": {
      "model_module": "@jupyter-widgets/base",
      "model_module_version": "1.2.0",
      "model_name": "LayoutModel",
      "state": {}
     },
     "8d5d88972baa4de5a5cb7839c71b462d": {
      "model_module": "@jupyter-widgets/controls",
      "model_module_version": "1.5.0",
      "model_name": "DescriptionStyleModel",
      "state": {
       "description_width": ""
      }
     },
     "91a5822ecb1e4c0fbbc07453e1dc3814": {
      "model_module": "@jupyter-widgets/controls",
      "model_module_version": "1.5.0",
      "model_name": "HTMLModel",
      "state": {
       "layout": "IPY_MODEL_7b6a905d3b7247d48e0255ba0389e6cf",
       "style": "IPY_MODEL_659602f1e8924ec8981d3b6ffb65d521"
      }
     },
     "9c5f3cf942c04d0ea9c767ebe0b66b71": {
      "model_module": "@jupyter-widgets/base",
      "model_module_version": "1.2.0",
      "model_name": "LayoutModel",
      "state": {}
     },
     "a3f0dbc66d77436faed9b8e946407914": {
      "model_module": "@jupyter-widgets/controls",
      "model_module_version": "1.5.0",
      "model_name": "FloatProgressModel",
      "state": {
       "bar_style": "success",
       "layout": "IPY_MODEL_051dd36b2d704c958816f7e7dbbcfac8",
       "max": 1,
       "style": "IPY_MODEL_732e8e880a384bf7b290733724b4deab",
       "value": 1
      }
     },
     "a43f2c26e7ba4cf681c534ed951be8a2": {
      "model_module": "@jupyter-widgets/controls",
      "model_module_version": "1.5.0",
      "model_name": "ProgressStyleModel",
      "state": {
       "description_width": ""
      }
     },
     "a74e5de479cb43d8b6fdf9100e4c78fb": {
      "model_module": "@jupyter-widgets/base",
      "model_module_version": "1.2.0",
      "model_name": "LayoutModel",
      "state": {}
     },
     "a98cdf04b31248bab4f8629c64bc0778": {
      "model_module": "@jupyter-widgets/controls",
      "model_module_version": "1.5.0",
      "model_name": "ProgressStyleModel",
      "state": {
       "description_width": ""
      }
     },
     "ab1fe9d4d97f41f9bf45414142d7c961": {
      "model_module": "@jupyter-widgets/base",
      "model_module_version": "1.2.0",
      "model_name": "LayoutModel",
      "state": {}
     },
     "ab9106c1489a42f7a791f8106f6d3771": {
      "model_module": "@jupyter-widgets/controls",
      "model_module_version": "1.5.0",
      "model_name": "HBoxModel",
      "state": {
       "children": [
        "IPY_MODEL_b5a5a3228d404100863bde66c141132f",
        "IPY_MODEL_a3f0dbc66d77436faed9b8e946407914",
        "IPY_MODEL_bc57b6d7312d4cc9b139d105edbb3b76"
       ],
       "layout": "IPY_MODEL_9c5f3cf942c04d0ea9c767ebe0b66b71"
      }
     },
     "b5a5a3228d404100863bde66c141132f": {
      "model_module": "@jupyter-widgets/controls",
      "model_module_version": "1.5.0",
      "model_name": "HTMLModel",
      "state": {
       "layout": "IPY_MODEL_d7cf987aeb7a4ee5912fc7598d42a69a",
       "style": "IPY_MODEL_c629a02ff6694cbf956d3c7bc4e54e63"
      }
     },
     "b8c59f9a27d846708cdcc0d79ceea79b": {
      "model_module": "@jupyter-widgets/base",
      "model_module_version": "1.2.0",
      "model_name": "LayoutModel",
      "state": {}
     },
     "b9e815f6c3be458daddd50aae8248e36": {
      "model_module": "@jupyter-widgets/base",
      "model_module_version": "1.2.0",
      "model_name": "LayoutModel",
      "state": {}
     },
     "bb6885af07c844bfa2029ade81994bb4": {
      "model_module": "@jupyter-widgets/controls",
      "model_module_version": "1.5.0",
      "model_name": "HTMLModel",
      "state": {
       "layout": "IPY_MODEL_26b0b9188fbe4bc7ae643bdf82bf62ad",
       "style": "IPY_MODEL_e661ec6770ac462e9f4e5344b2908e0b",
       "value": " 322/? [13:38&lt;00:00,  1.20s/it]"
      }
     },
     "bc57b6d7312d4cc9b139d105edbb3b76": {
      "model_module": "@jupyter-widgets/controls",
      "model_module_version": "1.5.0",
      "model_name": "HTMLModel",
      "state": {
       "layout": "IPY_MODEL_81cdefaf76104aa7a1836a1bcc281a43",
       "style": "IPY_MODEL_f18cc611fa074f60ba7d0a4cfa222374",
       "value": " 5/? [03:14&lt;00:00, 64.24s/it]"
      }
     },
     "c04737343bc545f3bd1ee082dc6c667d": {
      "model_module": "@jupyter-widgets/controls",
      "model_module_version": "1.5.0",
      "model_name": "HBoxModel",
      "state": {
       "children": [
        "IPY_MODEL_7c0bc60825ee48049a09c5ce23baa114",
        "IPY_MODEL_d7b86660860d4775b25d25bd5f0fa82b",
        "IPY_MODEL_065ee88c057d4dc5b1adf3173a273287"
       ],
       "layout": "IPY_MODEL_33dfa4b1064d403f89d052e77934e6dc"
      }
     },
     "c53b1624118849d0b972f316bcb9c431": {
      "model_module": "@jupyter-widgets/base",
      "model_module_version": "1.2.0",
      "model_name": "LayoutModel",
      "state": {}
     },
     "c629a02ff6694cbf956d3c7bc4e54e63": {
      "model_module": "@jupyter-widgets/controls",
      "model_module_version": "1.5.0",
      "model_name": "DescriptionStyleModel",
      "state": {
       "description_width": ""
      }
     },
     "c8d9bccc9d474ebe9310e40dc3721120": {
      "model_module": "@jupyter-widgets/base",
      "model_module_version": "1.2.0",
      "model_name": "LayoutModel",
      "state": {
       "width": "20px"
      }
     },
     "cd035c723b9e486ca9f01858d5d57275": {
      "model_module": "@jupyter-widgets/controls",
      "model_module_version": "1.5.0",
      "model_name": "ProgressStyleModel",
      "state": {
       "description_width": ""
      }
     },
     "cdcccc1e57df4bb5a8f37c76d1f491b3": {
      "model_module": "@jupyter-widgets/controls",
      "model_module_version": "1.5.0",
      "model_name": "HBoxModel",
      "state": {
       "children": [
        "IPY_MODEL_f7fbf031173c4ab282300ae633a93c39",
        "IPY_MODEL_795d490150fd416287003d0295aa9fc3",
        "IPY_MODEL_bb6885af07c844bfa2029ade81994bb4"
       ],
       "layout": "IPY_MODEL_c53b1624118849d0b972f316bcb9c431"
      }
     },
     "d4473efa5cca4aa9b95a944ef051a27b": {
      "model_module": "@jupyter-widgets/controls",
      "model_module_version": "1.5.0",
      "model_name": "HTMLModel",
      "state": {
       "layout": "IPY_MODEL_a74e5de479cb43d8b6fdf9100e4c78fb",
       "style": "IPY_MODEL_6c2632bc5c6540b88e91bf0dfad8c86d"
      }
     },
     "d5efd6f92ca64e19a641032e2d31a6a4": {
      "model_module": "@jupyter-widgets/base",
      "model_module_version": "1.2.0",
      "model_name": "LayoutModel",
      "state": {
       "width": "20px"
      }
     },
     "d7b86660860d4775b25d25bd5f0fa82b": {
      "model_module": "@jupyter-widgets/controls",
      "model_module_version": "1.5.0",
      "model_name": "FloatProgressModel",
      "state": {
       "bar_style": "danger",
       "layout": "IPY_MODEL_e6a0f59ecbe84e508006a669f6a5bc85",
       "max": 14330,
       "style": "IPY_MODEL_e596de8210db4afe91f49d1ef79362a0",
       "value": 4341
      }
     },
     "d7cf987aeb7a4ee5912fc7598d42a69a": {
      "model_module": "@jupyter-widgets/base",
      "model_module_version": "1.2.0",
      "model_name": "LayoutModel",
      "state": {}
     },
     "d8392486de7240e2844119cb9654acf4": {
      "model_module": "@jupyter-widgets/controls",
      "model_module_version": "1.5.0",
      "model_name": "FloatProgressModel",
      "state": {
       "bar_style": "success",
       "layout": "IPY_MODEL_46a69fc71c2243a6b81b68f9ee158a76",
       "max": 1,
       "style": "IPY_MODEL_cd035c723b9e486ca9f01858d5d57275",
       "value": 1
      }
     },
     "d85978aa9eae4f30830bc036a49e9b1a": {
      "model_module": "@jupyter-widgets/controls",
      "model_module_version": "1.5.0",
      "model_name": "DescriptionStyleModel",
      "state": {
       "description_width": ""
      }
     },
     "db4d00e8bb29499db0acf1c0e9f76559": {
      "model_module": "@jupyter-widgets/controls",
      "model_module_version": "1.5.0",
      "model_name": "ProgressStyleModel",
      "state": {
       "description_width": ""
      }
     },
     "dddb0c1d92654681b65f1c5a242e61e8": {
      "model_module": "@jupyter-widgets/base",
      "model_module_version": "1.2.0",
      "model_name": "LayoutModel",
      "state": {}
     },
     "e596de8210db4afe91f49d1ef79362a0": {
      "model_module": "@jupyter-widgets/controls",
      "model_module_version": "1.5.0",
      "model_name": "ProgressStyleModel",
      "state": {
       "description_width": ""
      }
     },
     "e661ec6770ac462e9f4e5344b2908e0b": {
      "model_module": "@jupyter-widgets/controls",
      "model_module_version": "1.5.0",
      "model_name": "DescriptionStyleModel",
      "state": {
       "description_width": ""
      }
     },
     "e6a0f59ecbe84e508006a669f6a5bc85": {
      "model_module": "@jupyter-widgets/base",
      "model_module_version": "1.2.0",
      "model_name": "LayoutModel",
      "state": {}
     },
     "e6fe8cc3c5654c82957060b6b3ff3251": {
      "model_module": "@jupyter-widgets/controls",
      "model_module_version": "1.5.0",
      "model_name": "HTMLModel",
      "state": {
       "layout": "IPY_MODEL_7ea89abdf6a54603b9c1bbd6aab8ae48",
       "style": "IPY_MODEL_783869924d4c4080994fd285ebca4462",
       "value": " 5/? [02:22&lt;00:00, 46.35s/it]"
      }
     },
     "ec906ac239644603b42b2be6400ba147": {
      "model_module": "@jupyter-widgets/controls",
      "model_module_version": "1.5.0",
      "model_name": "DescriptionStyleModel",
      "state": {
       "description_width": ""
      }
     },
     "ef2d24b477ec41fd8ddf273d14372207": {
      "model_module": "@jupyter-widgets/controls",
      "model_module_version": "1.5.0",
      "model_name": "HTMLModel",
      "state": {
       "layout": "IPY_MODEL_10247d925ea4433baf0b843e2acd1da8",
       "style": "IPY_MODEL_0d9f6b11aeeb49e4b9070170bed4ec2d",
       "value": " 5/? [00:00&lt;00:00, 313.33it/s]"
      }
     },
     "f11ed0e5647c47bd852a6157755bda41": {
      "model_module": "@jupyter-widgets/controls",
      "model_module_version": "1.5.0",
      "model_name": "HTMLModel",
      "state": {
       "layout": "IPY_MODEL_8c04229feadc4f479dbb0cd2679ad90e",
       "style": "IPY_MODEL_ec906ac239644603b42b2be6400ba147",
       "value": " 18/14348 [02:55&lt;39:34:01,  9.94s/it]"
      }
     },
     "f18cc611fa074f60ba7d0a4cfa222374": {
      "model_module": "@jupyter-widgets/controls",
      "model_module_version": "1.5.0",
      "model_name": "DescriptionStyleModel",
      "state": {
       "description_width": ""
      }
     },
     "f7fbf031173c4ab282300ae633a93c39": {
      "model_module": "@jupyter-widgets/controls",
      "model_module_version": "1.5.0",
      "model_name": "HTMLModel",
      "state": {
       "layout": "IPY_MODEL_3929bf9f7a0348c597c2df504fd609bd",
       "style": "IPY_MODEL_8d5d88972baa4de5a5cb7839c71b462d"
      }
     }
    },
    "version_major": 2,
    "version_minor": 0
   }
  }
 },
 "nbformat": 4,
 "nbformat_minor": 5
}
