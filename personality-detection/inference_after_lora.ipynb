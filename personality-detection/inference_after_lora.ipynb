{
 "cells": [
  {
   "cell_type": "code",
   "execution_count": null,
   "metadata": {},
   "outputs": [],
   "source": [
    "import json\n",
    "from tqdm.notebook import tqdm\n",
    "\n",
    "import torch\n",
    "from datasets import load_from_disk\n",
    "from transformers import (\n",
    "    AutoModelForSequenceClassification,\n",
    "    AutoTokenizer,\n",
    ")\n",
    "\n",
    "from peft import (\n",
    "    PeftModel,\n",
    "    PeftConfig,\n",
    ")\n",
    "\n",
    "# Login to Hugging Face\n",
    "from huggingface_hub import notebook_login\n",
    "notebook_login()"
   ]
  },
  {
   "cell_type": "markdown",
   "metadata": {},
   "source": [
    "## Inference AFTER LoRA tuning"
   ]
  },
  {
   "cell_type": "markdown",
   "metadata": {},
   "source": [
    "## Load data"
   ]
  },
  {
   "cell_type": "code",
   "execution_count": null,
   "metadata": {},
   "outputs": [],
   "source": [
    "SEED = 42\n",
    "\n",
    "# Load preprocessed dataset\n",
    "dataset = load_from_disk(\"data/processed_data_no_removal\").shuffle(seed=SEED)\n",
    "\n",
    "# Dictionary to switch labels and IDs\n",
    "label2id = {l: id for id, l in enumerate(sorted(set(dataset['train']['label'])))}\n",
    "id2label = {id: l for l, id in label2id.items()}"
   ]
  },
  {
   "cell_type": "markdown",
   "metadata": {},
   "source": [
    "## Load model"
   ]
  },
  {
   "cell_type": "code",
   "execution_count": null,
   "metadata": {},
   "outputs": [],
   "source": [
    "# Directory of LoRA model\n",
    "dir_model = './lora_result_25tweets_lr-1e-4/after-5epoch'\n",
    "\n",
    "# Load the configuration for LoRA model\n",
    "config = PeftConfig.from_pretrained(dir_model)\n",
    "inference_model = AutoModelForSequenceClassification.from_pretrained(\n",
    "    config.base_model_name_or_path,\n",
    "    torch_dtype=torch.bfloat16,\n",
    "    num_labels=len(label2id),\n",
    "    label2id=label2id,\n",
    "    id2label=id2label,\n",
    "    device_map=\"auto\",\n",
    ")\n",
    "tokenizer = AutoTokenizer.from_pretrained(config.base_model_name_or_path)\n",
    "\n",
    "# Load the Lora model\n",
    "inference_model = PeftModel.from_pretrained(inference_model, dir_model)\n",
    "\n",
    "# Merge the adapter weights with the base model which allows the model's inference to speed up\n",
    "merged_model = inference_model.merge_and_unload()"
   ]
  },
  {
   "cell_type": "markdown",
   "metadata": {},
   "source": [
    "## Prediction process"
   ]
  },
  {
   "cell_type": "code",
   "execution_count": null,
   "metadata": {},
   "outputs": [],
   "source": [
    "cor_a = 0\n",
    "tot_a = 0\n",
    "pred_list_a = []\n",
    "\n",
    "for dp in tqdm(dataset['test']):\n",
    "    inputs = tokenizer(dp['text'], return_tensors=\"pt\")\n",
    "\n",
    "    with torch.no_grad():\n",
    "        outputs = merged_model(**inputs)\n",
    "        predictions = outputs.logits.argmax(dim=-1).item()\n",
    "        predictions, references = merged_model.config.id2label[predictions], dp['label']\n",
    "\n",
    "    tot_a += 1\n",
    "    if predictions == references:\n",
    "        cor_a += 1\n",
    "\n",
    "    pred_list_a.append(predictions)\n",
    "\n",
    "accuracy_a = cor_a / tot_a\n",
    "print(f\"Accuracy after LoRA: {accuracy_a}\")"
   ]
  },
  {
   "cell_type": "markdown",
   "metadata": {},
   "source": [
    "## Save outputs"
   ]
  },
  {
   "cell_type": "code",
   "execution_count": null,
   "metadata": {},
   "outputs": [],
   "source": [
    "results_a = {\n",
    "    'text': dataset['test']['text'],\n",
    "    'references': dataset['test']['label'],\n",
    "    'predictions': pred_list_a\n",
    "}\n",
    "\n",
    "with open(\"./lora_result_25tweets_lr-1e-4/inference_after_lora_5epoch.json\", \"w\") as f:\n",
    "    json.dump(results_a, f)"
   ]
  },
  {
   "cell_type": "markdown",
   "metadata": {},
   "source": [
    "## Evaluate results"
   ]
  },
  {
   "cell_type": "code",
   "execution_count": null,
   "metadata": {},
   "outputs": [],
   "source": [
    "def print_evaluation_result(references, predictions):\n",
    "    cor = [0] * 4\n",
    "    total_cor = 0\n",
    "\n",
    "    for ref, pred in tqdm(zip(refs, preds)):\n",
    "        # Compare elements and increment the corresponding count in cor if they match\n",
    "        for i, (r_trait, p_trait) in enumerate(zip(ref, pred)):\n",
    "            if r_trait == p_trait:\n",
    "                cor[i] += 1\n",
    "\n",
    "        # For multi-class classification\n",
    "        if ref == pred:\n",
    "            total_cor += 1\n",
    "\n",
    "    accuracy = [round(c / len(refs), 4) for c in cor]\n",
    "    total_accuracy = round(total_cor / len(refs), 4)\n",
    "\n",
    "    print(f\"Accuracy for each dimension: {accuracy}\")\n",
    "    print(f\"Accuracy for multi-class classification: {total_accuracy}\")\n",
    "\n",
    "\n",
    "\n",
    "with open('lora_result_25tweets_lr-1e-4/inference_after_lora_1700steps.json', 'r') as before_f:\n",
    "    before_result = json.load(before_f)\n",
    "    \n",
    "refs, preds = before_result['references'], before_result['predictions']\n",
    "print_evaluation_result(refs, preds)"
   ]
  }
 ],
 "metadata": {
  "language_info": {
   "name": "python"
  }
 },
 "nbformat": 4,
 "nbformat_minor": 2
}
