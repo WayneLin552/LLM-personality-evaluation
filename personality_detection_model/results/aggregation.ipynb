{
 "cells": [
  {
   "cell_type": "code",
   "execution_count": 1,
   "metadata": {},
   "outputs": [],
   "source": [
    "import json\n",
    "import pandas as pd"
   ]
  },
  {
   "cell_type": "code",
   "execution_count": 4,
   "metadata": {},
   "outputs": [
    {
     "data": {
      "text/html": [
       "<div>\n",
       "<style scoped>\n",
       "    .dataframe tbody tr th:only-of-type {\n",
       "        vertical-align: middle;\n",
       "    }\n",
       "\n",
       "    .dataframe tbody tr th {\n",
       "        vertical-align: top;\n",
       "    }\n",
       "\n",
       "    .dataframe thead th {\n",
       "        text-align: right;\n",
       "    }\n",
       "</style>\n",
       "<table border=\"1\" class=\"dataframe\">\n",
       "  <thead>\n",
       "    <tr style=\"text-align: right;\">\n",
       "      <th></th>\n",
       "      <th>text</th>\n",
       "      <th>references</th>\n",
       "      <th>predictions_16class_model</th>\n",
       "      <th>predictions_binary_model</th>\n",
       "    </tr>\n",
       "  </thead>\n",
       "  <tbody>\n",
       "    <tr>\n",
       "      <th>0</th>\n",
       "      <td>1. 'This. When I lie it's to avoid an unreason...</td>\n",
       "      <td>INTP</td>\n",
       "      <td>INTP</td>\n",
       "      <td>INTP</td>\n",
       "    </tr>\n",
       "    <tr>\n",
       "      <th>1</th>\n",
       "      <td>1. 'I said zero flexibility and little time fo...</td>\n",
       "      <td>INTJ</td>\n",
       "      <td>INFJ</td>\n",
       "      <td>INFJ</td>\n",
       "    </tr>\n",
       "    <tr>\n",
       "      <th>2</th>\n",
       "      <td>1. 'This has to be written with bias or someth...</td>\n",
       "      <td>INTP</td>\n",
       "      <td>INTP</td>\n",
       "      <td>INTP</td>\n",
       "    </tr>\n",
       "    <tr>\n",
       "      <th>3</th>\n",
       "      <td>1. 'HAuhuHAuh You might be right Muhicz. I'm j...</td>\n",
       "      <td>ENFP</td>\n",
       "      <td>ENFP</td>\n",
       "      <td>ENFP</td>\n",
       "    </tr>\n",
       "    <tr>\n",
       "      <th>4</th>\n",
       "      <td>1. 'Her parents are kind of the go to college ...</td>\n",
       "      <td>ENTJ</td>\n",
       "      <td>ENTP</td>\n",
       "      <td>ENTJ</td>\n",
       "    </tr>\n",
       "    <tr>\n",
       "      <th>...</th>\n",
       "      <td>...</td>\n",
       "      <td>...</td>\n",
       "      <td>...</td>\n",
       "      <td>...</td>\n",
       "    </tr>\n",
       "    <tr>\n",
       "      <th>863</th>\n",
       "      <td>1. 'Dear Sour Patch Watermelon Candy,  Why did...</td>\n",
       "      <td>INFJ</td>\n",
       "      <td>INFJ</td>\n",
       "      <td>INFJ</td>\n",
       "    </tr>\n",
       "    <tr>\n",
       "      <th>864</th>\n",
       "      <td>1. 'ENTP and ENFPs are definitely my favorites...</td>\n",
       "      <td>INTP</td>\n",
       "      <td>INFP</td>\n",
       "      <td>INFP</td>\n",
       "    </tr>\n",
       "    <tr>\n",
       "      <th>865</th>\n",
       "      <td>1. 'No. And I'm actually waiting for a mod to ...</td>\n",
       "      <td>INTJ</td>\n",
       "      <td>INTJ</td>\n",
       "      <td>INTP</td>\n",
       "    </tr>\n",
       "    <tr>\n",
       "      <th>866</th>\n",
       "      <td>1. 'Hi there, ISFJ with a little bit of INFJ e...</td>\n",
       "      <td>ISFJ</td>\n",
       "      <td>ISFJ</td>\n",
       "      <td>ISFJ</td>\n",
       "    </tr>\n",
       "    <tr>\n",
       "      <th>867</th>\n",
       "      <td>1. Main Questions  1. What drives you in life?...</td>\n",
       "      <td>ENFP</td>\n",
       "      <td>INFP</td>\n",
       "      <td>INFP</td>\n",
       "    </tr>\n",
       "  </tbody>\n",
       "</table>\n",
       "<p>868 rows × 4 columns</p>\n",
       "</div>"
      ],
      "text/plain": [
       "                                                  text references  \\\n",
       "0    1. 'This. When I lie it's to avoid an unreason...       INTP   \n",
       "1    1. 'I said zero flexibility and little time fo...       INTJ   \n",
       "2    1. 'This has to be written with bias or someth...       INTP   \n",
       "3    1. 'HAuhuHAuh You might be right Muhicz. I'm j...       ENFP   \n",
       "4    1. 'Her parents are kind of the go to college ...       ENTJ   \n",
       "..                                                 ...        ...   \n",
       "863  1. 'Dear Sour Patch Watermelon Candy,  Why did...       INFJ   \n",
       "864  1. 'ENTP and ENFPs are definitely my favorites...       INTP   \n",
       "865  1. 'No. And I'm actually waiting for a mod to ...       INTJ   \n",
       "866  1. 'Hi there, ISFJ with a little bit of INFJ e...       ISFJ   \n",
       "867  1. Main Questions  1. What drives you in life?...       ENFP   \n",
       "\n",
       "    predictions_16class_model predictions_binary_model  \n",
       "0                        INTP                     INTP  \n",
       "1                        INFJ                     INFJ  \n",
       "2                        INTP                     INTP  \n",
       "3                        ENFP                     ENFP  \n",
       "4                        ENTP                     ENTJ  \n",
       "..                        ...                      ...  \n",
       "863                      INFJ                     INFJ  \n",
       "864                      INFP                     INFP  \n",
       "865                      INTJ                     INTP  \n",
       "866                      ISFJ                     ISFJ  \n",
       "867                      INFP                     INFP  \n",
       "\n",
       "[868 rows x 4 columns]"
      ]
     },
     "execution_count": 4,
     "metadata": {},
     "output_type": "execute_result"
    }
   ],
   "source": [
    "with open('binary_cls/test_results_binary.json', 'r') as f_bi:\n",
    "    data_bi = json.load(f_bi)\n",
    "\n",
    "with open('multi_cls/test_results_multi.json', 'r') as f_mu:\n",
    "    data_mu = json.load(f_mu)\n",
    "\n",
    "assert data_bi['text'] == data_mu['text']\n",
    "assert data_bi['references'] == data_mu['references']\n",
    "\n",
    "df = pd.DataFrame(\n",
    "    {\n",
    "        'text': data_mu['text'], \n",
    "        'references': data_mu['references'], \n",
    "        'predictions_16class_model': data_mu['predictions'], \n",
    "        'predictions_binary_model': data_bi['predictions']\n",
    "    }\n",
    ")\n",
    "\n",
    "df"
   ]
  },
  {
   "cell_type": "code",
   "execution_count": 8,
   "metadata": {},
   "outputs": [
    {
     "data": {
      "text/plain": [
       "0.8168202764976958"
      ]
     },
     "execution_count": 8,
     "metadata": {},
     "output_type": "execute_result"
    }
   ],
   "source": [
    "# Accuracy of 16 class model\n",
    "sum(df['references'] == df['predictions_16class_model']) / len(df)"
   ]
  },
  {
   "cell_type": "code",
   "execution_count": 9,
   "metadata": {},
   "outputs": [
    {
     "data": {
      "text/plain": [
       "0.8099078341013825"
      ]
     },
     "execution_count": 9,
     "metadata": {},
     "output_type": "execute_result"
    }
   ],
   "source": [
    "# Accuracy of binary class model\n",
    "sum(df['references'] == df['predictions_binary_model']) / len(df)"
   ]
  },
  {
   "cell_type": "code",
   "execution_count": 13,
   "metadata": {},
   "outputs": [],
   "source": [
    "# Export to csv file\n",
    "df.to_csv('results_on_testdata.csv', index=False)"
   ]
  },
  {
   "cell_type": "code",
   "execution_count": null,
   "metadata": {},
   "outputs": [],
   "source": []
  }
 ],
 "metadata": {
  "kernelspec": {
   "display_name": "Python 3",
   "language": "python",
   "name": "python3"
  },
  "language_info": {
   "codemirror_mode": {
    "name": "ipython",
    "version": 3
   },
   "file_extension": ".py",
   "mimetype": "text/x-python",
   "name": "python",
   "nbconvert_exporter": "python",
   "pygments_lexer": "ipython3",
   "version": "3.11.5"
  }
 },
 "nbformat": 4,
 "nbformat_minor": 2
}
