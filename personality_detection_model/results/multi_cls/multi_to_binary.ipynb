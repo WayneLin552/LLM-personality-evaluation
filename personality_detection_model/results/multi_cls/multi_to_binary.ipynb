{
 "cells": [
  {
   "cell_type": "code",
   "execution_count": null,
   "metadata": {},
   "outputs": [],
   "source": [
    "%cd personality_detection_model/results/multi_cls"
   ]
  },
  {
   "cell_type": "markdown",
   "metadata": {},
   "source": [
    "## Calculate accuracy"
   ]
  },
  {
   "cell_type": "code",
   "execution_count": 2,
   "metadata": {},
   "outputs": [
    {
     "data": {
      "application/vnd.jupyter.widget-view+json": {
       "model_id": "14bc3306aa0d478499909ef99fe1828e",
       "version_major": 2,
       "version_minor": 0
      },
      "text/plain": [
       "0it [00:00, ?it/s]"
      ]
     },
     "metadata": {},
     "output_type": "display_data"
    },
    {
     "name": "stdout",
     "output_type": "stream",
     "text": [
      "Accuracy for each dimension: [0.9309, 0.9631, 0.9355, 0.909]\n",
      "Accuracy for multi-class classification: 0.8168\n"
     ]
    }
   ],
   "source": [
    "import json\n",
    "from tqdm.notebook import tqdm\n",
    "\n",
    "with open('test_results_multi.json', 'r') as f:\n",
    "    result = json.load(f)\n",
    "\n",
    "refs = result['references']\n",
    "preds = result['predictions']\n",
    "\n",
    "cor = [0] * 4\n",
    "total_cor = 0\n",
    "\n",
    "for ref, pred in tqdm(zip(refs, preds)):\n",
    "    # Compare elements and increment the corresponding count in cor if they match\n",
    "    for i, (r_trait, p_trait) in enumerate(zip(ref, pred)):\n",
    "        if r_trait == p_trait:\n",
    "            cor[i] += 1\n",
    "        \n",
    "    # For multi-class classification\n",
    "    if ref == pred:\n",
    "        total_cor += 1\n",
    "\n",
    "accuracy = [round(c / len(refs), 4) for c in cor]\n",
    "total_accuracy = round(total_cor / len(refs), 4)\n",
    "\n",
    "print(f\"Accuracy for each dimension: {accuracy}\")\n",
    "print(f\"Accuracy for multi-class classification: {total_accuracy}\")"
   ]
  },
  {
   "cell_type": "markdown",
   "metadata": {},
   "source": [
    "## 16 class distribution"
   ]
  },
  {
   "cell_type": "code",
   "execution_count": 17,
   "metadata": {},
   "outputs": [
    {
     "data": {
      "text/plain": [
       "references\n",
       "INFP    20.046083\n",
       "INTP    18.548387\n",
       "INFJ    16.935484\n",
       "INTJ    11.405530\n",
       "ENFP     7.488479\n",
       "ENTP     7.027650\n",
       "ISTP     3.801843\n",
       "ISFP     3.341014\n",
       "ENFJ     2.534562\n",
       "ISTJ     2.304147\n",
       "ISFJ     2.304147\n",
       "ENTJ     2.073733\n",
       "ESTP     1.036866\n",
       "ESFP     0.460829\n",
       "ESFJ     0.460829\n",
       "ESTJ     0.230415\n",
       "Name: count, dtype: float64"
      ]
     },
     "execution_count": 17,
     "metadata": {},
     "output_type": "execute_result"
    }
   ],
   "source": [
    "import pandas as pd\n",
    "#import matplotlib.pyplot as plt\n",
    "\n",
    "df = pd.DataFrame(result)\n",
    "\n",
    "df['references'].value_counts() / len(df) * 100"
   ]
  },
  {
   "cell_type": "code",
   "execution_count": 18,
   "metadata": {},
   "outputs": [
    {
     "data": {
      "text/plain": [
       "predictions\n",
       "INFP    22.926267\n",
       "INTP    18.087558\n",
       "INFJ    16.359447\n",
       "INTJ    11.405530\n",
       "ENTP     7.949309\n",
       "ENFP     7.027650\n",
       "ISFJ     3.110599\n",
       "ISTP     2.995392\n",
       "ISFP     2.995392\n",
       "ISTJ     1.958525\n",
       "ENFJ     1.843318\n",
       "ENTJ     1.382488\n",
       "ESTP     0.806452\n",
       "ESFJ     0.460829\n",
       "ESFP     0.460829\n",
       "ESTJ     0.230415\n",
       "Name: count, dtype: float64"
      ]
     },
     "execution_count": 18,
     "metadata": {},
     "output_type": "execute_result"
    }
   ],
   "source": [
    "df['predictions'].value_counts() / len(df) *100"
   ]
  },
  {
   "cell_type": "code",
   "execution_count": null,
   "metadata": {},
   "outputs": [],
   "source": []
  }
 ],
 "metadata": {
  "kernelspec": {
   "display_name": "Python 3",
   "language": "python",
   "name": "python3"
  },
  "language_info": {
   "codemirror_mode": {
    "name": "ipython",
    "version": 3
   },
   "file_extension": ".py",
   "mimetype": "text/x-python",
   "name": "python",
   "nbconvert_exporter": "python",
   "pygments_lexer": "ipython3",
   "version": "3.11.5"
  }
 },
 "nbformat": 4,
 "nbformat_minor": 2
}
