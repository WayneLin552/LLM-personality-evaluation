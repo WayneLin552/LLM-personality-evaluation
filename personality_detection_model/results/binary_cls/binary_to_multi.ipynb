{
 "cells": [
  {
   "cell_type": "code",
   "execution_count": null,
   "metadata": {},
   "outputs": [],
   "source": [
    "%cd personality_detection_model/results/binary_cls"
   ]
  },
  {
   "cell_type": "code",
   "execution_count": 1,
   "metadata": {},
   "outputs": [],
   "source": [
    "import json\n",
    "from tqdm.notebook import tqdm\n",
    "\n",
    "with open('test_results_dim1.json', 'r') as f_1st:\n",
    "    result_1st = json.load(f_1st)\n",
    "\n",
    "with open('test_results_dim2.json', 'r') as f_2nd:\n",
    "    result_2nd = json.load(f_2nd)\n",
    "\n",
    "with open('test_results_dim3.json', 'r') as f_3rd:\n",
    "    result_3rd = json.load(f_3rd)\n",
    "\n",
    "with open('test_results_dim4.json', 'r') as f_4th:\n",
    "    result_4th = json.load(f_4th)"
   ]
  },
  {
   "cell_type": "code",
   "execution_count": 2,
   "metadata": {},
   "outputs": [],
   "source": [
    "result_list = [result_1st, result_2nd, result_3rd, result_4th]\n",
    "\n",
    "# list to store multi-class labels of reference and prediction\n",
    "multi_ref = []\n",
    "multi_pred = []\n",
    "\n",
    "assert result_1st['text'] == result_2nd['text'] == result_3rd['text'] ==result_4th['text']\n",
    "\n",
    "# Concatenate four dimensions\n",
    "refs = [i+j+k+l for i, j, k, l in zip(result_1st['references'], result_2nd['references'], result_3rd['references'], result_4th['references'])]\n",
    "preds = [i+j+k+l for i, j, k, l in zip(result_1st['predictions'], result_2nd['predictions'], result_3rd['predictions'], result_4th['predictions'])]"
   ]
  },
  {
   "cell_type": "code",
   "execution_count": 3,
   "metadata": {},
   "outputs": [],
   "source": [
    "# Save results\n",
    "results = {\n",
    "    'text': result_1st['text'],\n",
    "    'references': refs,\n",
    "    'predictions': preds\n",
    "}\n",
    "\n",
    "with open('test_results_binary.json', \"w\") as f:\n",
    "    json.dump(results, f)"
   ]
  },
  {
   "cell_type": "code",
   "execution_count": 4,
   "metadata": {},
   "outputs": [
    {
     "data": {
      "application/vnd.jupyter.widget-view+json": {
       "model_id": "5302951a0d9044f9a44616c89897d2ad",
       "version_major": 2,
       "version_minor": 0
      },
      "text/plain": [
       "0it [00:00, ?it/s]"
      ]
     },
     "metadata": {},
     "output_type": "display_data"
    },
    {
     "name": "stdout",
     "output_type": "stream",
     "text": [
      "Accuracy for each dimension: [0.9401, 0.9608, 0.9297, 0.8998]\n",
      "Accuracy for multi-class classification: 0.8099\n"
     ]
    }
   ],
   "source": [
    "cor = [0] * 4\n",
    "total_cor = 0\n",
    "\n",
    "for ref, pred in tqdm(zip(refs, preds)):\n",
    "    # Compare elements and increment the corresponding count in cor if they match\n",
    "    for i, (r_trait, p_trait) in enumerate(zip(ref, pred)):\n",
    "        if r_trait == p_trait:\n",
    "            cor[i] += 1\n",
    "        \n",
    "    # For multi-class classification\n",
    "    if ref == pred:\n",
    "        total_cor += 1\n",
    "        \n",
    "accuracy = [round(c / len(refs), 4) for c in cor]\n",
    "total_accuracy = round(total_cor / len(refs), 4)\n",
    "\n",
    "print(f\"Accuracy for each dimension: {accuracy}\")\n",
    "print(f\"Accuracy for multi-class classification: {total_accuracy}\")"
   ]
  },
  {
   "cell_type": "markdown",
   "metadata": {},
   "source": [
    "# 16 class distribution"
   ]
  },
  {
   "cell_type": "code",
   "execution_count": 6,
   "metadata": {},
   "outputs": [
    {
     "data": {
      "text/plain": [
       "references\n",
       "INFP    20.05\n",
       "INTP    18.55\n",
       "INFJ    16.94\n",
       "INTJ    11.41\n",
       "ENFP     7.49\n",
       "ENTP     7.03\n",
       "ISTP     3.80\n",
       "ISFP     3.34\n",
       "ENFJ     2.53\n",
       "ISTJ     2.30\n",
       "ISFJ     2.30\n",
       "ENTJ     2.07\n",
       "ESTP     1.04\n",
       "ESFP     0.46\n",
       "ESFJ     0.46\n",
       "ESTJ     0.23\n",
       "Name: count, dtype: float64"
      ]
     },
     "execution_count": 6,
     "metadata": {},
     "output_type": "execute_result"
    }
   ],
   "source": [
    "import pandas as pd\n",
    "#import matplotlib.pyplot as plt\n",
    "\n",
    "df = pd.DataFrame({\n",
    "    'references': refs,\n",
    "    'predictions': preds\n",
    "})\n",
    "\n",
    "round(df['references'].value_counts() / len(df) * 100, 2)"
   ]
  },
  {
   "cell_type": "code",
   "execution_count": 7,
   "metadata": {},
   "outputs": [
    {
     "data": {
      "text/plain": [
       "predictions\n",
       "INFP    23.04\n",
       "INTP    19.82\n",
       "INFJ    16.94\n",
       "INTJ    11.64\n",
       "ENFP     6.80\n",
       "ENTP     5.30\n",
       "ISTP     2.88\n",
       "ISFJ     2.88\n",
       "ISFP     2.53\n",
       "ENFJ     2.30\n",
       "ISTJ     1.96\n",
       "ENTJ     1.61\n",
       "ESTP     0.81\n",
       "ESFP     0.69\n",
       "ESFJ     0.58\n",
       "ESTJ     0.23\n",
       "Name: count, dtype: float64"
      ]
     },
     "execution_count": 7,
     "metadata": {},
     "output_type": "execute_result"
    }
   ],
   "source": [
    "round(df['predictions'].value_counts() / len(df) *100, 2)"
   ]
  },
  {
   "cell_type": "code",
   "execution_count": null,
   "metadata": {},
   "outputs": [],
   "source": []
  }
 ],
 "metadata": {
  "kernelspec": {
   "display_name": "Python 3",
   "language": "python",
   "name": "python3"
  },
  "language_info": {
   "codemirror_mode": {
    "name": "ipython",
    "version": 3
   },
   "file_extension": ".py",
   "mimetype": "text/x-python",
   "name": "python",
   "nbconvert_exporter": "python",
   "pygments_lexer": "ipython3",
   "version": "3.11.5"
  }
 },
 "nbformat": 4,
 "nbformat_minor": 2
}
