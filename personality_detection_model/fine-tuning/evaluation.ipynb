{
 "cells": [
  {
   "cell_type": "code",
   "execution_count": 1,
   "metadata": {},
   "outputs": [
    {
     "name": "stderr",
     "output_type": "stream",
     "text": [
      "/opt/homebrew/lib/python3.11/site-packages/bitsandbytes/cextension.py:34: UserWarning: The installed version of bitsandbytes was compiled without GPU support. 8-bit optimizers, 8-bit multiplication, and GPU quantization are unavailable.\n",
      "  warn(\"The installed version of bitsandbytes was compiled without GPU support. \"\n"
     ]
    },
    {
     "name": "stdout",
     "output_type": "stream",
     "text": [
      "'NoneType' object has no attribute 'cadam32bit_grad_fp32'\n"
     ]
    },
    {
     "data": {
      "application/vnd.jupyter.widget-view+json": {
       "model_id": "53a3978ebf994066a3eb6726372b0495",
       "version_major": 2,
       "version_minor": 0
      },
      "text/plain": [
       "VBox(children=(HTML(value='<center> <img\\nsrc=https://huggingface.co/front/assets/huggingface_logo-noborder.sv…"
      ]
     },
     "metadata": {},
     "output_type": "display_data"
    }
   ],
   "source": [
    "import json\n",
    "from tqdm.notebook import tqdm\n",
    "\n",
    "import torch\n",
    "from datasets import load_from_disk\n",
    "from transformers import (\n",
    "    AutoModelForSequenceClassification,\n",
    "    AutoTokenizer,\n",
    "    AutoConfig,\n",
    ")\n",
    "\n",
    "from peft import (\n",
    "    PeftModel,\n",
    ")\n",
    "\n",
    "# Login to Hugging Face\n",
    "from huggingface_hub import notebook_login\n",
    "notebook_login()"
   ]
  },
  {
   "cell_type": "markdown",
   "metadata": {},
   "source": [
    "## Inference AFTER LoRA tuning"
   ]
  },
  {
   "cell_type": "markdown",
   "metadata": {},
   "source": [
    "## Load data"
   ]
  },
  {
   "cell_type": "code",
   "execution_count": null,
   "metadata": {},
   "outputs": [],
   "source": [
    "SEED = 42\n",
    "\n",
    "# Load preprocessed dataset\n",
    "dataset = load_from_disk(\"data/processed_data_50tweets\").shuffle(seed=SEED)\n",
    "\n",
    "# Dictionary to switch labels and IDs\n",
    "label2id = {l: id for id, l in enumerate(sorted(set(dataset['train']['label'])))}\n",
    "id2label = {id: l for l, id in label2id.items()}"
   ]
  },
  {
   "cell_type": "markdown",
   "metadata": {},
   "source": [
    "## Load model"
   ]
  },
  {
   "cell_type": "code",
   "execution_count": null,
   "metadata": {},
   "outputs": [],
   "source": [
    "# Directory of LoRA model\n",
    "model_name_or_path = 'Yuta555/Llama-2-7b-MBTI-classification'\n",
    "\n",
    "# Load configration, model, and tokenizer\n",
    "config = AutoConfig.from_pretrained(model_name_or_path)\n",
    "model = AutoModelForSequenceClassification.from_pretrained(\n",
    "    model_name_or_path,\n",
    "    config=config,\n",
    "    torch_dtype=torch.bfloat16,\n",
    "    device_map=\"auto\",\n",
    ")\n",
    "tokenizer = AutoTokenizer.from_pretrained(model_name_or_path)\n",
    "\n",
    "# Load the Lora model\n",
    "model = PeftModel.from_pretrained(model, model_name_or_path)\n",
    "\n",
    "# Merge the adapter weights with the base model which allows the model's inference to speed up\n",
    "merged_model = model.merge_and_unload()"
   ]
  },
  {
   "cell_type": "markdown",
   "metadata": {},
   "source": [
    "## Prediction process"
   ]
  },
  {
   "cell_type": "code",
   "execution_count": null,
   "metadata": {},
   "outputs": [],
   "source": [
    "cor_a = 0\n",
    "tot_a = 0\n",
    "pred_list_a = []\n",
    "\n",
    "for dp in tqdm(dataset['test']):\n",
    "    inputs = tokenizer(dp['text'], return_tensors=\"pt\")\n",
    "\n",
    "    with torch.no_grad():\n",
    "        outputs = merged_model(**inputs)\n",
    "        predictions = outputs.logits.argmax(dim=-1).item()\n",
    "        predictions, references = merged_model.config.id2label[predictions], dp['label']\n",
    "\n",
    "    tot_a += 1\n",
    "    if predictions == references:\n",
    "        cor_a += 1\n",
    "\n",
    "    pred_list_a.append(predictions)\n",
    "\n",
    "accuracy_a = cor_a / tot_a\n",
    "print(f\"Accuracy after LoRA: {accuracy_a}\")"
   ]
  },
  {
   "cell_type": "markdown",
   "metadata": {},
   "source": [
    "## Save outputs"
   ]
  },
  {
   "cell_type": "code",
   "execution_count": null,
   "metadata": {},
   "outputs": [],
   "source": [
    "results_a = {\n",
    "    'text': dataset['test']['text'],\n",
    "    'references': dataset['test']['label'],\n",
    "    'predictions': pred_list_a\n",
    "}\n",
    "\n",
    "with open(\"output/multi_cls/test_results_r-16_3000steps.json\", \"w\") as f:\n",
    "    json.dump(results_a, f)"
   ]
  },
  {
   "cell_type": "markdown",
   "metadata": {},
   "source": [
    "## Evaluate results"
   ]
  },
  {
   "cell_type": "code",
   "execution_count": 3,
   "metadata": {},
   "outputs": [
    {
     "data": {
      "application/vnd.jupyter.widget-view+json": {
       "model_id": "05994e6da46e4842b8508a217b778cd3",
       "version_major": 2,
       "version_minor": 0
      },
      "text/plain": [
       "0it [00:00, ?it/s]"
      ]
     },
     "metadata": {},
     "output_type": "display_data"
    },
    {
     "name": "stdout",
     "output_type": "stream",
     "text": [
      "Accuracy for each dimension: [0.9309, 0.9608, 0.9343, 0.909]\n",
      "Accuracy for multi-class classification: 0.8145\n"
     ]
    }
   ],
   "source": [
    "def print_evaluation_result(references, predictions):\n",
    "    cor = [0] * 4\n",
    "    total_cor = 0\n",
    "\n",
    "    for ref, pred in tqdm(zip(refs, preds)):\n",
    "        # Compare elements and increment the corresponding count in cor if they match\n",
    "        for i, (r_trait, p_trait) in enumerate(zip(ref, pred)):\n",
    "            if r_trait == p_trait:\n",
    "                cor[i] += 1\n",
    "\n",
    "        # For multi-class classification\n",
    "        if ref == pred:\n",
    "            total_cor += 1\n",
    "\n",
    "    accuracy = [round(c / len(refs), 4) for c in cor]\n",
    "    total_accuracy = round(total_cor / len(refs), 4)\n",
    "\n",
    "    print(f\"Accuracy for each dimension: {accuracy}\")\n",
    "    print(f\"Accuracy for multi-class classification: {total_accuracy}\")\n",
    "\n",
    "\n",
    "result_file_dir = 'output/multi_cls/test_results_r-16_3000steps.json'\n",
    "\n",
    "with open(result_file_dir, 'r') as before_f:\n",
    "    before_result = json.load(before_f)\n",
    "    \n",
    "refs, preds = before_result['references'], before_result['predictions']\n",
    "print_evaluation_result(refs, preds)"
   ]
  },
  {
   "cell_type": "code",
   "execution_count": null,
   "metadata": {},
   "outputs": [],
   "source": []
  }
 ],
 "metadata": {
  "kernelspec": {
   "display_name": "Python 3",
   "language": "python",
   "name": "python3"
  },
  "language_info": {
   "codemirror_mode": {
    "name": "ipython",
    "version": 3
   },
   "file_extension": ".py",
   "mimetype": "text/x-python",
   "name": "python",
   "nbconvert_exporter": "python",
   "pygments_lexer": "ipython3",
   "version": "3.11.5"
  }
 },
 "nbformat": 4,
 "nbformat_minor": 2
}
