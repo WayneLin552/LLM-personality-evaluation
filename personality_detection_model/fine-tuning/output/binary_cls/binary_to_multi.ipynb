{
 "cells": [
  {
   "cell_type": "code",
   "execution_count": null,
   "metadata": {},
   "outputs": [],
   "source": [
    "%cd personality_detection_model/output/binary_cls"
   ]
  },
  {
   "cell_type": "code",
   "execution_count": 11,
   "metadata": {},
   "outputs": [],
   "source": [
    "import json\n",
    "from tqdm.notebook import tqdm\n",
    "\n",
    "with open('inference_after_lora_1st_1400steps.json', 'r') as f_1st:\n",
    "    result_1st = json.load(f_1st)\n",
    "\n",
    "with open('inference_after_lora_2nd_600steps.json', 'r') as f_2nd:\n",
    "    result_2nd = json.load(f_2nd)\n",
    "\n",
    "with open('inference_after_lora_3rd_800steps.json', 'r') as f_3rd:\n",
    "    result_3rd = json.load(f_3rd)\n",
    "\n",
    "with open('inference_after_lora_4th_800steps.json', 'r') as f_4th:\n",
    "    result_4th = json.load(f_4th)"
   ]
  },
  {
   "cell_type": "code",
   "execution_count": 12,
   "metadata": {},
   "outputs": [],
   "source": [
    "result_list = [result_1st, result_2nd, result_3rd, result_4th]\n",
    "\n",
    "# list to store multi-class labels of reference and prediction\n",
    "multi_ref = []\n",
    "multi_pred = []\n",
    "\n",
    "# Concatenate four dimensions\n",
    "refs = [i+j+k+l for i, j, k, l in zip(result_1st['references'], result_2nd['references'], result_3rd['references'], result_4th['references'])]\n",
    "preds = [i+j+k+l for i, j, k, l in zip(result_1st['predictions'], result_2nd['predictions'], result_3rd['predictions'], result_4th['predictions'])]"
   ]
  },
  {
   "cell_type": "code",
   "execution_count": 14,
   "metadata": {},
   "outputs": [
    {
     "data": {
      "application/vnd.jupyter.widget-view+json": {
       "model_id": "3bc57ab7cc354069b8dfa0517d8d6382",
       "version_major": 2,
       "version_minor": 0
      },
      "text/plain": [
       "0it [00:00, ?it/s]"
      ]
     },
     "metadata": {},
     "output_type": "display_data"
    },
    {
     "name": "stdout",
     "output_type": "stream",
     "text": [
      "Accuracy for each dimension: [0.8929, 0.9171, 0.8733, 0.8318]\n",
      "Accuracy for multi-class classification: 0.6728\n"
     ]
    }
   ],
   "source": [
    "cor = [0] * 4\n",
    "total_cor = 0\n",
    "\n",
    "for ref, pred in tqdm(zip(refs, preds)):\n",
    "    # Compare elements and increment the corresponding count in cor if they match\n",
    "    for i, (r_trait, p_trait) in enumerate(zip(ref, pred)):\n",
    "        if r_trait == p_trait:\n",
    "            cor[i] += 1\n",
    "        \n",
    "    # For multi-class classification\n",
    "    if ref == pred:\n",
    "        total_cor += 1\n",
    "        \n",
    "accuracy = [round(c / len(refs), 4) for c in cor]\n",
    "total_accuracy = round(total_cor / len(refs), 4)\n",
    "\n",
    "print(f\"Accuracy for each dimension: {accuracy}\")\n",
    "print(f\"Accuracy for multi-class classification: {total_accuracy}\")"
   ]
  },
  {
   "cell_type": "code",
   "execution_count": null,
   "metadata": {},
   "outputs": [],
   "source": []
  }
 ],
 "metadata": {
  "kernelspec": {
   "display_name": "Python 3",
   "language": "python",
   "name": "python3"
  },
  "language_info": {
   "codemirror_mode": {
    "name": "ipython",
    "version": 3
   },
   "file_extension": ".py",
   "mimetype": "text/x-python",
   "name": "python",
   "nbconvert_exporter": "python",
   "pygments_lexer": "ipython3",
   "version": "3.11.5"
  }
 },
 "nbformat": 4,
 "nbformat_minor": 2
}
